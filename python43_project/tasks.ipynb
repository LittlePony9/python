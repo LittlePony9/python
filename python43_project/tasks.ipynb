{
 "cells": [
  {
   "cell_type": "code",
   "execution_count": 1,
   "metadata": {},
   "outputs": [],
   "source": [
    "import task_list\n",
    "\n",
    "# task_list.add_task(\"Приехать на занятие\")\n",
    "# print(task_list.view_list())\n",
    "\n",
    "# task_list.mark_complete(\"Приехать на занятие\")\n",
    "# print(task_list.view_list())\n",
    "\n",
    "# task_list.clear_list()\n",
    "# print(task_list.view_list())\n",
    "\n",
    "operation = input('Введите операцию. 1 - добавить задание, 2 - отметить как выполненное, 3 - очистить список, 4 - показать список')\n",
    "\n",
    "def choose_operation(operation):\n",
    "    if operation == \"1\":\n",
    "        task_list.add_task(input('Введите задачу'))\n",
    "        print(task_list.view_list())\n",
    "    elif operation == \"2\":\n",
    "        task_list.mark_complete(input('Введите выаолненную задачу'))\n",
    "        print(task_list.view_list())\n",
    "    elif operation == \"3\":\n",
    "        task_list.clear_list()\n",
    "        print(task_list.view_list())\n",
    "    elif operation == \"4\":\n",
    "        print(task_list.view_list())\n",
    "    else:\n",
    "        return \"Такой операции нет\"\n",
    "\n"
   ]
  }
 ],
 "metadata": {
  "kernelspec": {
   "display_name": "Python 3",
   "language": "python",
   "name": "python3"
  },
  "language_info": {
   "codemirror_mode": {
    "name": "ipython",
    "version": 3
   },
   "file_extension": ".py",
   "mimetype": "text/x-python",
   "name": "python",
   "nbconvert_exporter": "python",
   "pygments_lexer": "ipython3",
   "version": "3.12.6"
  }
 },
 "nbformat": 4,
 "nbformat_minor": 2
}
