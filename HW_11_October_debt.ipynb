{
 "cells": [
  {
   "cell_type": "markdown",
   "metadata": {},
   "source": [
    "*Задание 1*\n",
    "Пользователь вводит с клавиатуры строку. Проверьте является ли введенная строка палиндромом."
   ]
  },
  {
   "cell_type": "code",
   "execution_count": 24,
   "metadata": {},
   "outputs": [
    {
     "name": "stdout",
     "output_type": "stream",
     "text": [
      "Ваша строка является палиндромом!\n"
     ]
    }
   ],
   "source": [
    "str = input(\"Введите строку\")\n",
    "\n",
    "copied_str = str.lower().replace(\" \", \"\")\n",
    "\n",
    "if copied_str == copied_str[::-1]:\n",
    "    print(f'Ваша строка является палиндромом!')\n",
    "else:\n",
    "    print(f'Строка не является палиндромом.')"
   ]
  },
  {
   "cell_type": "markdown",
   "metadata": {},
   "source": [
    "*Задание 2*\n",
    "Пользователь вводит с клавиатуры некоторый текст, после чего пользователь вводит список зарезервированных слов. Необходимо найти в тексте все зарезервированные слова и изменить их регистр на верхний. Вывести на экран измененный текст.\n",
    "\n",
    "Вывести измененный текст"
   ]
  },
  {
   "cell_type": "code",
   "execution_count": 43,
   "metadata": {},
   "outputs": [
    {
     "name": "stdout",
     "output_type": "stream",
     "text": [
      "['ДУБ']\n",
      "ДУБ лукоморья дуб зеленый\n"
     ]
    }
   ],
   "source": [
    "text = input(\"Введите текст\")\n",
    "working_version = text.lower()\n",
    "\n",
    "preserved_words = input(\"Введите зарезервированные слова (через пробел, если их несколько)\")\n",
    "words_list = preserved_words.split(\" \")\n",
    "\n",
    "words_to_change = []\n",
    "\n",
    "for el in words_list:\n",
    "    if el in working_version:\n",
    "        words_to_change.append(el.upper())\n",
    "\n",
    "print(words_to_change)\n",
    "\n",
    "new_text = text.split()\n",
    "\n",
    "for i in range(min(len(new_text), len(words_to_change))):\n",
    "    new_text[i] = words_to_change[i]\n",
    "\n",
    "new_string = \" \".join(new_text)\n",
    "print(new_string)\n",
    "\n",
    "\n",
    "\n"
   ]
  }
 ],
 "metadata": {
  "kernelspec": {
   "display_name": "Python 3",
   "language": "python",
   "name": "python3"
  },
  "language_info": {
   "codemirror_mode": {
    "name": "ipython",
    "version": 3
   },
   "file_extension": ".py",
   "mimetype": "text/x-python",
   "name": "python",
   "nbconvert_exporter": "python",
   "pygments_lexer": "ipython3",
   "version": "3.11.3"
  }
 },
 "nbformat": 4,
 "nbformat_minor": 2
}
