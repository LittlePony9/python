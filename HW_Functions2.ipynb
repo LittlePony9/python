{
 "cells": [
  {
   "cell_type": "markdown",
   "metadata": {},
   "source": [
    "Задание 1\n",
    "Напишите функцию, вычисляющую произведение\n",
    "элементов списка целых. Список передаётся в качестве параметра. Полученный результат возвращается изфункции.\n"
   ]
  },
  {
   "cell_type": "code",
   "execution_count": 7,
   "metadata": {},
   "outputs": [
    {
     "name": "stdout",
     "output_type": "stream",
     "text": [
      "24\n"
     ]
    }
   ],
   "source": [
    "def product_of_elements(numbers):\n",
    "    result = 1\n",
    "    for num in numbers:\n",
    "        result *= num\n",
    "    return result\n",
    "\n",
    "print(product_of_elements([1, 2, 3, 4]))  # Должно вывести: 24\n"
   ]
  },
  {
   "cell_type": "markdown",
   "metadata": {},
   "source": [
    "Задание 2\n",
    "Напишите функцию для нахождения минимума в\n",
    "списке целых. Список передаётся в качестве параметра.\n",
    "Полученный результат возвращается из функции.\n"
   ]
  },
  {
   "cell_type": "code",
   "execution_count": 8,
   "metadata": {},
   "outputs": [
    {
     "name": "stdout",
     "output_type": "stream",
     "text": [
      "1\n"
     ]
    }
   ],
   "source": [
    "def find_minimum(numbers):\n",
    "    return min(numbers)\n",
    "\n",
    "print(find_minimum([5, 3, 8, 1, 7]))\n"
   ]
  },
  {
   "cell_type": "markdown",
   "metadata": {},
   "source": [
    "Задание 3\n",
    "Напишите функцию, определяющую количество простых чисел в списке целых. Список передаётся в качестве\n",
    "параметра.Полученныйрезультат возвращаетсяизфункции.\n"
   ]
  },
  {
   "cell_type": "code",
   "execution_count": 9,
   "metadata": {},
   "outputs": [
    {
     "name": "stdout",
     "output_type": "stream",
     "text": [
      "4\n"
     ]
    }
   ],
   "source": [
    "def count_primes(numbers):\n",
    "    def is_prime(n):\n",
    "        if n < 2:\n",
    "            return False\n",
    "        for i in range(2, int(n**0.5) + 1):\n",
    "            if n % i == 0:\n",
    "                return False\n",
    "        return True\n",
    "\n",
    "    return sum(1 for num in numbers if is_prime(num))\n",
    "\n",
    "print(count_primes([2, 3, 4, 5, 6, 7, 8, 9, 10]))  # Должно вывести: 4\n"
   ]
  },
  {
   "cell_type": "markdown",
   "metadata": {},
   "source": [
    "Задание 4\n",
    "Напишите функцию, удаляющую из списка целых\n",
    "некоторое заданное число. Из функции нужно вернуть\n",
    "количество удаленных элементов.\n"
   ]
  },
  {
   "cell_type": "code",
   "execution_count": 10,
   "metadata": {},
   "outputs": [
    {
     "name": "stdout",
     "output_type": "stream",
     "text": [
      "3\n",
      "[1, 3, 4]\n"
     ]
    }
   ],
   "source": [
    "def remove_number(numbers, target):\n",
    "    count = numbers.count(target)\n",
    "    numbers[:] = [num for num in numbers if num != target]\n",
    "    return count\n",
    "\n",
    "nums = [1, 2, 3, 2, 4, 2]\n",
    "print(remove_number(nums, 2))\n",
    "print(nums)\n"
   ]
  },
  {
   "cell_type": "markdown",
   "metadata": {},
   "source": [
    "Задание 5\n",
    "Напишите функцию, которая получает два списка в\n",
    "качестве параметра и возвращает список, содержащий\n",
    "элементы обоих списков.\n",
    "\n"
   ]
  },
  {
   "cell_type": "code",
   "execution_count": 11,
   "metadata": {},
   "outputs": [
    {
     "name": "stdout",
     "output_type": "stream",
     "text": [
      "[1, 2, 3, 4, 5, 6]\n"
     ]
    }
   ],
   "source": [
    "def merge_lists(list1, list2):\n",
    "    return list1 + list2\n",
    "\n",
    "print(merge_lists([1, 2, 3], [4, 5, 6]))"
   ]
  },
  {
   "cell_type": "markdown",
   "metadata": {},
   "source": [
    "Задание 6\n",
    "Напишитефункцию, высчитывающуюстепень каждого\n",
    "элемента списка целых. Значение для степени передаётся\n",
    "в качестве параметра, список тоже передаётся в качестве\n",
    "параметра. Функция возвращает новый список, содержащий полученные результаты"
   ]
  },
  {
   "cell_type": "code",
   "execution_count": 12,
   "metadata": {},
   "outputs": [
    {
     "name": "stdout",
     "output_type": "stream",
     "text": [
      "[1, 4, 9, 16]\n"
     ]
    }
   ],
   "source": [
    "def power_of_elements(numbers, power):\n",
    "    return [num ** power for num in numbers]\n",
    "\n",
    "print(power_of_elements([1, 2, 3, 4], 2))"
   ]
  }
 ],
 "metadata": {
  "kernelspec": {
   "display_name": "Python 3",
   "language": "python",
   "name": "python3"
  },
  "language_info": {
   "codemirror_mode": {
    "name": "ipython",
    "version": 3
   },
   "file_extension": ".py",
   "mimetype": "text/x-python",
   "name": "python",
   "nbconvert_exporter": "python",
   "pygments_lexer": "ipython3",
   "version": "3.11.3"
  }
 },
 "nbformat": 4,
 "nbformat_minor": 2
}
