{
 "cells": [
  {
   "cell_type": "markdown",
   "metadata": {},
   "source": [
    "Урок 1, 13.01.2025\n",
    "Повторение классов. Метаклассы"
   ]
  },
  {
   "cell_type": "code",
   "execution_count": 62,
   "metadata": {},
   "outputs": [
    {
     "name": "stdout",
     "output_type": "stream",
     "text": [
      "Название: The Great Gatsby. Автор: F. Scott Firzgerald. Год: 1925. Количество страниц: 180.\n",
      "Название: 1984. Автор: George Orwell. Год: 1949. Формат файла: EPUB.\n"
     ]
    }
   ],
   "source": [
    "class Book:\n",
    "    def __init__(self, title, author, year):\n",
    "        self._title = title #__ - защищенные атрибуты, к ним нельзя получить доступ извне\n",
    "        self._author = author\n",
    "        self._year = year\n",
    "\n",
    "    def get_details(self):\n",
    "        return (f'Название: {self.title}. Автор: {self.author}. Год: {self.year}.')\n",
    "    \n",
    "\n",
    "class PrintedBook(Book):\n",
    "\n",
    "    def __init__(self, title, author, year, page_count):\n",
    "        super().__init__(title, author, year)\n",
    "        self.page_count = page_count\n",
    "\n",
    "    def get_details(self):\n",
    "      return (f'Название: {self._title}. Автор: {self._author}. Год: {self._year}. Количество страниц: {self.page_count}.')\n",
    "\n",
    "\n",
    "class EBook(Book):\n",
    "    def __init__(self, title, author, year, format):\n",
    "        super().__init__(title, author, year)\n",
    "        self.format = format\n",
    "\n",
    "    def get_details(self):\n",
    "      return (f'Название: {self._title}. Автор: {self._author}. Год: {self._year}. Формат файла: {self.format}.')\n",
    "\n",
    "\n",
    "class Library:\n",
    "    def __init__(self):\n",
    "        self.books = []\n",
    "\n",
    "    def add_book(self, book):\n",
    "        self.books.append(book)\n",
    "        \n",
    "    def list_books(self):\n",
    "        for book in self.books:\n",
    "            print(book.get_details())\n",
    "    \n",
    "\n",
    "library = Library()\n",
    "\n",
    "book1 = PrintedBook(\"The Great Gatsby\", \"F. Scott Firzgerald\", 1925, 180)\n",
    "book2 = EBook(\"1984\", \"George Orwell\", 1949, \"EPUB\")\n",
    "book1.get_details()\n",
    "book2.get_details()\n",
    "\n",
    "library.add_book(book1)\n",
    "library.add_book(book2)\n",
    "\n",
    "library.list_books()\n",
    "    "
   ]
  },
  {
   "cell_type": "markdown",
   "metadata": {},
   "source": [
    "Вложенные классы - один класс вложен в другой.\n",
    "Описание моделей во фреймворке Jango.\n",
    "\n",
    "\n",
    "ЗОНТИК!!!!!!!"
   ]
  },
  {
   "cell_type": "code",
   "execution_count": null,
   "metadata": {},
   "outputs": [],
   "source": [
    "class Women:\n",
    "    title = \"объект класса для поля title\""
   ]
  },
  {
   "cell_type": "markdown",
   "metadata": {},
   "source": [
    "Урок 15.01\n",
    "Списки\n",
    "Методы списков\n",
    "\n",
    "append()\n",
    "insert(index, item) - добавляет элемент по указанному индексу\n",
    "extend(items) - добавляет набор элементов в конец списка\n",
    "remove() - удаляет элемент\n",
    "clear() - полностью очистить все элементов списка\n",
    "index() - возвращает индекс элемента\n",
    "pop() - удаляет элемент по индексу\n",
    "\n"
   ]
  },
  {
   "cell_type": "code",
   "execution_count": 10,
   "metadata": {},
   "outputs": [
    {
     "name": "stdout",
     "output_type": "stream",
     "text": [
      "['Loofy', 'Zoro', 'Robin', 'Sunny']\n",
      "['Loofy', 'Chopper', 'Zoro', 'Robin', 'Sunny']\n"
     ]
    }
   ],
   "source": [
    "one_piece = [\"Loofy\", \"Zoro\"]\n",
    "one_piece.append(\"Robin\")\n",
    "one_piece.append(\"Sunny\")\n",
    "print(one_piece)\n",
    "\n",
    "one_piece.insert(1, \"Chopper\")\n",
    "\n",
    "\n",
    "\n",
    "print(one_piece)\n"
   ]
  },
  {
   "cell_type": "markdown",
   "metadata": {},
   "source": [
    "Шаги для игры в крестики нолики:\n",
    "1) Нарисовать поле\n",
    "1 2 3\n",
    "4 5 6\n",
    "7 8 9\n",
    "\n",
    "+ 1.1) Прописать выигрышные комбинации\n",
    "\n",
    "2) Попросить игроков выбрать свой символ\n",
    "\n",
    "3) Попросить игроков выбрать ячейку для хода\n",
    "\n",
    "4) Поменять символ в ячейке\n",
    "\n",
    "5) Вывести актуальное поле\n",
    "\n",
    "6) Повторить операции 3-5, пока кто-то не соберет выигрышную комбинацию.\n",
    "\n",
    "ИЛИ\n",
    "\n",
    "6.1) Когда больше нет свободных полей — вывести ничью.\n",
    "\n",
    "7) Вывести поле с зачеркнутыми ячейками выигрышной комбинации\n",
    "\n",
    "8) Вывести на экран победителя\n",
    "\n",
    "ИЛИ \n",
    "\n",
    "8.1) Вывести информацию о ничьей"
   ]
  },
  {
   "cell_type": "code",
   "execution_count": 34,
   "metadata": {},
   "outputs": [
    {
     "name": "stdout",
     "output_type": "stream",
     "text": [
      "[1]\n",
      "[2]\n",
      "[3]\n",
      "[4]\n",
      "[5]\n",
      "[6]\n",
      "[7]\n",
      "[8]\n",
      "[9]\n"
     ]
    },
    {
     "ename": "IndexError",
     "evalue": "list index out of range",
     "output_type": "error",
     "traceback": [
      "\u001b[1;31m---------------------------------------------------------------------------\u001b[0m",
      "\u001b[1;31mIndexError\u001b[0m                                Traceback (most recent call last)",
      "Cell \u001b[1;32mIn[34], line 23\u001b[0m\n\u001b[0;32m     20\u001b[0m         \u001b[38;5;28;01mfor\u001b[39;00m j \u001b[38;5;129;01min\u001b[39;00m \u001b[38;5;28mmap\u001b[39m[i]:\n\u001b[0;32m     21\u001b[0m             \u001b[38;5;28mprint\u001b[39m([j])\n\u001b[1;32m---> 23\u001b[0m \u001b[43mprint_map\u001b[49m\u001b[43m(\u001b[49m\u001b[38;5;28;43mmap\u001b[39;49m\u001b[43m)\u001b[49m\n\u001b[0;32m     26\u001b[0m \u001b[38;5;28;01mdef\u001b[39;00m \u001b[38;5;21mstep_map\u001b[39m(step, symbol):\n\u001b[0;32m     27\u001b[0m     ind \u001b[38;5;241m=\u001b[39m \u001b[38;5;28mmap\u001b[39m\u001b[38;5;241m.\u001b[39mindex(step)\n",
      "Cell \u001b[1;32mIn[34], line 20\u001b[0m, in \u001b[0;36mprint_map\u001b[1;34m(map)\u001b[0m\n\u001b[0;32m     18\u001b[0m \u001b[38;5;28;01mdef\u001b[39;00m \u001b[38;5;21mprint_map\u001b[39m(\u001b[38;5;28mmap\u001b[39m):\n\u001b[0;32m     19\u001b[0m     \u001b[38;5;28;01mfor\u001b[39;00m i \u001b[38;5;129;01min\u001b[39;00m \u001b[38;5;28mrange\u001b[39m(\u001b[38;5;28mlen\u001b[39m(\u001b[38;5;28mmap\u001b[39m) \u001b[38;5;241m+\u001b[39m \u001b[38;5;241m1\u001b[39m):\n\u001b[1;32m---> 20\u001b[0m         \u001b[38;5;28;01mfor\u001b[39;00m j \u001b[38;5;129;01min\u001b[39;00m \u001b[38;5;28;43mmap\u001b[39;49m\u001b[43m[\u001b[49m\u001b[43mi\u001b[49m\u001b[43m]\u001b[49m:\n\u001b[0;32m     21\u001b[0m             \u001b[38;5;28mprint\u001b[39m([j])\n",
      "\u001b[1;31mIndexError\u001b[0m: list index out of range"
     ]
    }
   ],
   "source": [
    "map = [\n",
    "    [0, 1, 2],\n",
    "    [3, 4, 5],\n",
    "    [6, 7, 8],\n",
    "]\n",
    "\n",
    "win_combos = [\n",
    "    [0, 1, 2],\n",
    "    [3, 4, 5],\n",
    "    [6, 7, 8],\n",
    "    [0, 3, 6],\n",
    "    [1, 4, 7],\n",
    "    [2, 5, 8],\n",
    "    [0, 4, 8],\n",
    "    [2, 4, 6]\n",
    "]\n",
    "\n",
    "def print_map(map):\n",
    "    for i in range(len(map) + 1):\n",
    "        for j in map[i]:\n",
    "            print([j])\n",
    "\n",
    "print_map(map)\n",
    "\n",
    "\n",
    "def step_map(step, symbol):\n",
    "    ind = map.index(step)\n",
    "    map[ind] = symbol\n",
    "\n",
    "def get_result():\n",
    "    win = \"\"\n",
    "    for i in win_combos:\n",
    "        if map[i[0]] == \"X\" and map[i[1]] == \"X\" and map[i[2]] == \"X\":\n",
    "            win = \"X\"\n",
    "        if map[i[0]] == \"O\" and map[i[1]] == \"O\" and map[i[2]] == \"O\":\n",
    "            win = \"O\"\n",
    "    return win\n",
    "\n",
    "while game_over == False:\n",
    "    print_map()\n",
    "\n",
    "if player1 == True:\n",
    "    symbol = \"X\"\n",
    "    step = int(input(\"Игрок 1, ваш ход\"))\n",
    "else:\n",
    "    symbol = \"O\"\n",
    "    step = int(input(\"Игрок 2, ваш ход\"))\n",
    "\n",
    "step_map(step, symbol)\n",
    "win = get_result()\n",
    "\n",
    "if win != \"\":\n",
    "    game_over = True\n",
    "else:\n",
    "    game_over = False\n",
    "\n",
    "player1 = not(player1)\n",
    "\n",
    "print_map()\n",
    "print(\"Победил\", win)\n",
    "\n",
    "\n",
    "\n",
    "\n",
    "\n",
    "\n"
   ]
  },
  {
   "cell_type": "markdown",
   "metadata": {},
   "source": [
    "Односвязный список\n",
    "\n",
    "Операции:\n",
    "добавление в конец односвязного списка (push_back)\n",
    "push_front() - добавление в начало односвязного списка"
   ]
  },
  {
   "cell_type": "code",
   "execution_count": null,
   "metadata": {},
   "outputs": [],
   "source": [
    "Двусвязный список"
   ]
  },
  {
   "cell_type": "code",
   "execution_count": 36,
   "metadata": {},
   "outputs": [
    {
     "name": "stdout",
     "output_type": "stream",
     "text": [
      "Версия текста 2\n",
      "Версия текста 1\n",
      "Версия текста 2\n"
     ]
    }
   ],
   "source": [
    "class Node:\n",
    "    def __init__(self, data):\n",
    "        self.data = data\n",
    "        self.prev = None\n",
    "        self.next = None\n",
    "class UndoRedo:\n",
    "    def __init__(self):\n",
    "        self.current = None\n",
    "    \n",
    "    def add_change(self, data):\n",
    "        new_node = Node(data)\n",
    "        if self.current is None:\n",
    "            self.current = new_node\n",
    "        else:\n",
    "            self.current.next = new_node\n",
    "            new_node.prev = self.current\n",
    "            self.current = new_node\n",
    "\n",
    "    def undo(self):\n",
    "        if self.current and self.current.prev:\n",
    "            self.current = self.current.prev\n",
    "        return self.current.data\n",
    "\n",
    "    def redo(self):\n",
    "        if self.current and self.current.next:\n",
    "            self.current = self.current.next\n",
    "        return self.current.data\n",
    "    \n",
    "\n",
    "editor = UndoRedo()\n",
    "editor.add_change(\"Версия текста 1\")\n",
    "editor.add_change(\"Версия текста 2\")\n",
    "editor.add_change(\"Версия текста 3\")\n",
    "\n",
    "print(editor.undo())\n",
    "print(editor.undo())\n",
    "print(editor.redo())\n",
    "\n"
   ]
  },
  {
   "cell_type": "markdown",
   "metadata": {},
   "source": [
    "Деревья - связная структура данных  "
   ]
  },
  {
   "cell_type": "markdown",
   "metadata": {},
   "source": [
    "Урок 22.01\n",
    "\n",
    "Сериализиация, десериализация"
   ]
  },
  {
   "cell_type": "code",
   "execution_count": null,
   "metadata": {},
   "outputs": [],
   "source": [
    "class User:\n",
    "    def __init__(self, age, name):\n",
    "        self.age = age\n",
    "        self.name = name\n",
    "    \n",
    "    def get_values(self):\n",
    "        print(f'')"
   ]
  },
  {
   "cell_type": "markdown",
   "metadata": {},
   "source": [
    "Модуль JSON\n",
    "Иерархическая структура, представляет собой словарь словарей"
   ]
  },
  {
   "cell_type": "code",
   "execution_count": 16,
   "metadata": {},
   "outputs": [
    {
     "name": "stdout",
     "output_type": "stream",
     "text": [
      "{'name': 'Alice', 'age': 30, 'languages': ['English', 'Spanish']}\n",
      "{\"to_user\": \"sergy\", \"text\": \"hello\", \"type\": \"direct\", \"demolition\": null}\n",
      "[1, 2, 3]\n",
      "[1, 2, 3]\n"
     ]
    }
   ],
   "source": [
    "import json\n",
    "\n",
    "#сериализация\n",
    "data = {'name': 'Alice', 'age': 30, 'languages': ['English', 'Spanish']}\n",
    "with open('data.json', 'w') as f:\n",
    "    json.dump(data, f)\n",
    "\n",
    "#десериализация\n",
    "with open('data.json', 'r') as f:\n",
    "    loaded_data = json.load(f)\n",
    "\n",
    "print(loaded_data)\n",
    "\n",
    "\n",
    "data1 = {\n",
    "\n",
    "    \"to_user\": \"sergy\",\n",
    "    \"text\": \"hello\",\n",
    "    \"type\": \"direct\",\n",
    "    \"demolition\": None,\n",
    "\n",
    "}\n",
    "\n",
    "json_str = json.dumps(data1) #позволяет из питон-объекта сделать json-строку\n",
    "print(json_str)\n",
    "\n",
    "\n",
    "class MyEncoder(json.JSONEncoder):\n",
    "    def default(self, o):\n",
    "        if isinstance(o, set):\n",
    "            return list(o)\n",
    "        return o\n",
    "\n",
    "json_str = json.dumps({1, 2, 3}, cls=MyEncoder)\n",
    "print(json_str)\n",
    "\n",
    "\n",
    "py_obj = json.loads(json_str)\n",
    "print(py_obj)\n",
    "\n"
   ]
  },
  {
   "cell_type": "markdown",
   "metadata": {},
   "source": [
    "yaml \n",
    "Используется для конфигурационных файлов"
   ]
  },
  {
   "cell_type": "code",
   "execution_count": 18,
   "metadata": {},
   "outputs": [
    {
     "name": "stdout",
     "output_type": "stream",
     "text": [
      "Defaulting to user installation because normal site-packages is not writeable\n",
      "Collecting PyYAML\n",
      "  Downloading PyYAML-6.0.2-cp312-cp312-win_amd64.whl.metadata (2.1 kB)\n",
      "Downloading PyYAML-6.0.2-cp312-cp312-win_amd64.whl (156 kB)\n",
      "   ---------------------------------------- 0.0/156.3 kB ? eta -:--:--\n",
      "   -- ------------------------------------- 10.2/156.3 kB ? eta -:--:--\n",
      "   ------- ------------------------------- 30.7/156.3 kB 435.7 kB/s eta 0:00:01\n",
      "   --------------- ----------------------- 61.4/156.3 kB 544.7 kB/s eta 0:00:01\n",
      "   ----------------------------- -------- 122.9/156.3 kB 722.1 kB/s eta 0:00:01\n",
      "   -------------------------------------- 156.3/156.3 kB 849.4 kB/s eta 0:00:00\n",
      "Installing collected packages: PyYAML\n",
      "Successfully installed PyYAML-6.0.2\n"
     ]
    },
    {
     "name": "stderr",
     "output_type": "stream",
     "text": [
      "\n",
      "[notice] A new release of pip is available: 24.0 -> 24.3.1\n",
      "[notice] To update, run: python.exe -m pip install --upgrade pip\n"
     ]
    }
   ],
   "source": [
    "!pip install PyYAML"
   ]
  },
  {
   "cell_type": "markdown",
   "metadata": {},
   "source": []
  },
  {
   "cell_type": "code",
   "execution_count": 21,
   "metadata": {},
   "outputs": [
    {
     "name": "stdout",
     "output_type": "stream",
     "text": [
      "{'age': 30, 'languages': ['English', 'Spanish'], 'name': 'Alice'}\n"
     ]
    }
   ],
   "source": [
    "import yaml\n",
    "\n",
    "data = {'name': 'Alice', 'age': 30, 'languages': ['English', 'Spanish']}\n",
    "with open('data.yaml', 'w') as f:\n",
    "    yaml.dump(data, f)\n",
    "\n",
    "with open('data.yaml', 'r') as f:\n",
    "    loaded_data = yaml.safe_load(f)\n",
    "\n",
    "print(loaded_data)\n",
    "\n",
    "    "
   ]
  },
  {
   "cell_type": "code",
   "execution_count": 32,
   "metadata": {},
   "outputs": [
    {
     "name": "stdout",
     "output_type": "stream",
     "text": [
      "Ваш выбор: 0\n"
     ]
    }
   ],
   "source": [
    "import pickle\n",
    "import json\n",
    "import yaml\n",
    "import os\n",
    "\n",
    "data = {'name': 'Alice', 'age': 30, 'languages': ['English', 'Spanish']}\n",
    "\n",
    "def save_data(data, filename, format):\n",
    "    if format == 'pickle':\n",
    "       with open(filename, 'wb') as f:\n",
    "        pickle.dump(data, f)\n",
    "    elif format == 'json':\n",
    "        with open(filename, 'w') as f:\n",
    "            json.dump(data, f)\n",
    "    elif format == 'yaml':\n",
    "        with open(filename, 'w') as f:\n",
    "            yaml.dump(data, f)\n",
    "    else:\n",
    "        return f'Формат {format} не поддерживается'\n",
    "\n",
    "def load_data(filename, format):\n",
    "    if filename in os.listdir():\n",
    "        pass\n",
    "    else:\n",
    "        return f'Файла {filename} не существует'\n",
    "    if format == 'pickle':\n",
    "       with open(filename, 'rb') as f:\n",
    "            print(pickle.load(data, f))\n",
    "    elif format == 'json':\n",
    "        with open(filename, 'r') as f:\n",
    "            print(json.load(f))\n",
    "    elif format == 'yaml':\n",
    "        with open(filename, 'r') as f:\n",
    "            print(yaml.load(data, f))\n",
    "    else:\n",
    "        return f'Формат {format} не поддерживается'\n",
    "    \n",
    "\n",
    "while True:\n",
    "    menu = input(\"Выберите действие:\\n1. Сохранить данные\\n2. Загрузить данные\")\n",
    "    print(f'Ваш выбор: {menu}')\n",
    "    format = input(\"Введите формат файла\")\n",
    "      \n",
    "    if menu == '1':\n",
    "        filename = input(\"Введите имя файла\")\n",
    "        save_data(data, filename, format)\n",
    "    elif menu == '2':\n",
    "        filename = input(\"Введите имя файла\")\n",
    "        load_data(filename, format)\n",
    "    elif menu == '0':\n",
    "        break\n",
    "    else:\n",
    "        print(\"Такой операции нет\")"
   ]
  },
  {
   "cell_type": "code",
   "execution_count": 28,
   "metadata": {},
   "outputs": [
    {
     "data": {
      "text/plain": [
       "['data.json',\n",
       " 'data.yaml',\n",
       " 'desktop.ini',\n",
       " 'HW_Атрибуты классов и статические методы.ipynb',\n",
       " 'HW_Декораторы и замыкания.ipynb',\n",
       " 'HW_Строки. Списки.ipynb',\n",
       " 'Lesson.ipynb',\n",
       " 'Lessons.ipynb',\n",
       " 'Microsoft Edge.lnk',\n",
       " 'test.json']"
      ]
     },
     "execution_count": 28,
     "metadata": {},
     "output_type": "execute_result"
    }
   ],
   "source": [
    "os.listdir()"
   ]
  },
  {
   "cell_type": "code",
   "execution_count": null,
   "metadata": {},
   "outputs": [],
   "source": []
  },
  {
   "cell_type": "markdown",
   "metadata": {},
   "source": [
    "Основы UML моделирования\n",
    "\n",
    "Виды диаграмм\n",
    "-статические\n",
    "-поведенческие аспекты\n",
    "-реализации"
   ]
  },
  {
   "cell_type": "markdown",
   "metadata": {},
   "source": [
    "Шаблоны проектирования\n",
    "1) Паттерн Строитель.\n",
    "Сложные объекты создаются пошагово. \n",
    "строитель предоставляет лаконичный АПИ\n"
   ]
  },
  {
   "cell_type": "code",
   "execution_count": null,
   "metadata": {},
   "outputs": [],
   "source": [
    "text = \"hello\"\n",
    "parts = ['<p>', text, '<p>']\n",
    "print = (''.join(parts))\n"
   ]
  },
  {
   "cell_type": "code",
   "execution_count": null,
   "metadata": {},
   "outputs": [],
   "source": [
    "class HtmlElement:\n",
    "    indent_size = 2\n",
    "\n",
    "    def __init__(self, name='', text=''):\n",
    "        self.text = text\n",
    "        self.name = name\n",
    "        self.elements = []"
   ]
  },
  {
   "cell_type": "markdown",
   "metadata": {},
   "source": [
    "Паттерны проектирования\n",
    "\n",
    "MVC - Model View Controller - паттерн, который делит модули на три группы\n",
    "1) Модель - бэкенд\n",
    "2) Представление - фронтенд\n",
    "3) Контроллер - прослойка     "
   ]
  },
  {
   "cell_type": "markdown",
   "metadata": {},
   "source": [
    "Урок 10.02\n",
    "Принципы SOLID, практика\n",
    "1) Single responsibility principle\n",
    "Каждый класс должен иметь только одну причину для изменения.\n",
    "2) Open/closed principle\n",
    "Код должен быть открыт для расширения, но закрыт для изменения.\n",
    "3) Liskov sunstitution principle\n",
    "Объекты дочернего класса должны заменять объекты родительского класса без изменения поведения программы.\n",
    "4) Interface segregation principle\n",
    "Наследники не должны зависеть от родительских методов.\n",
    "5) Dependency inversion principle\n",
    "Модули верхнего уровня не должны зависеть от модулей нижнего уровня."
   ]
  },
  {
   "cell_type": "markdown",
   "metadata": {},
   "source": [
    "Абстрактные методы - методы, которые должны быть у всех дочерних классов, но должны быть переопределены."
   ]
  },
  {
   "cell_type": "code",
   "execution_count": 9,
   "metadata": {},
   "outputs": [
    {
     "name": "stdout",
     "output_type": "stream",
     "text": [
      "25\n"
     ]
    }
   ],
   "source": [
    "import abc\n",
    "\n",
    "class Shape(abc.ABC):\n",
    "    @abc.abstractmethod\n",
    "    def area (self): pass\n",
    "\n",
    "class Rectangle(Shape):\n",
    "    def area(self):\n",
    "        return 5*5\n",
    "\n",
    "shape = Rectangle()\n",
    "print(shape.area())"
   ]
  },
  {
   "cell_type": "code",
   "execution_count": null,
   "metadata": {},
   "outputs": [],
   "source": [
    "class Report:\n",
    "    def __init__(self, data):\n",
    "        self.data = data\n",
    "\n",
    "    def generate_pdf(self):\n",
    "        print(f\"Генерация PDF-отчета: {self.data}\")\n",
    "\n",
    "class SendReport:\n",
    "    def send_email(self, email):\n",
    "        print(f\"Отправка отчета на {self.email}\")"
   ]
  },
  {
   "cell_type": "markdown",
   "metadata": {},
   "source": [
    "Задание 2\n",
    "Напишите класс User, который:\n",
    "• Хранит имя и e-mail пользователя.\n",
    "• Может валидировать e-mail (например, проверять наличие @).\n",
    "• Может отправлять приветственное письмо.\n",
    "Вопрос:\n",
    "Какие обязанности нарушают SRP? Как разделить их по разным классам"
   ]
  },
  {
   "cell_type": "code",
   "execution_count": 17,
   "metadata": {},
   "outputs": [
    {
     "ename": "NameError",
     "evalue": "Email incorrect",
     "output_type": "error",
     "traceback": [
      "\u001b[1;31m---------------------------------------------------------------------------\u001b[0m",
      "\u001b[1;31mNameError\u001b[0m                                 Traceback (most recent call last)",
      "Cell \u001b[1;32mIn[17], line 16\u001b[0m\n\u001b[0;32m     13\u001b[0m     \u001b[38;5;28;01mdef\u001b[39;00m \u001b[38;5;21msendEmail\u001b[39m(\u001b[38;5;28mself\u001b[39m):\n\u001b[0;32m     14\u001b[0m         \u001b[38;5;28;01mreturn\u001b[39;00m \u001b[38;5;124mf\u001b[39m\u001b[38;5;124m'\u001b[39m\u001b[38;5;124mПисьмо отправлено \u001b[39m\u001b[38;5;132;01m{\u001b[39;00m\u001b[38;5;28mself\u001b[39m\u001b[38;5;241m.\u001b[39mname\u001b[38;5;132;01m}\u001b[39;00m\u001b[38;5;124m на почту \u001b[39m\u001b[38;5;132;01m{\u001b[39;00m\u001b[38;5;28mself\u001b[39m\u001b[38;5;241m.\u001b[39memail\u001b[38;5;132;01m}\u001b[39;00m\u001b[38;5;124m'\u001b[39m\n\u001b[1;32m---> 16\u001b[0m user1 \u001b[38;5;241m=\u001b[39m \u001b[43mSendGreeting\u001b[49m\u001b[43m(\u001b[49m\u001b[38;5;124;43m'\u001b[39;49m\u001b[38;5;124;43mJack\u001b[39;49m\u001b[38;5;124;43m'\u001b[39;49m\u001b[43m,\u001b[49m\u001b[43m \u001b[49m\u001b[38;5;124;43m'\u001b[39;49m\u001b[38;5;124;43mqwertymail.com\u001b[39;49m\u001b[38;5;124;43m'\u001b[39;49m\u001b[43m)\u001b[49m\n\u001b[0;32m     17\u001b[0m \u001b[38;5;28mprint\u001b[39m(user1\u001b[38;5;241m.\u001b[39msendEmail())\n",
      "Cell \u001b[1;32mIn[17], line 11\u001b[0m, in \u001b[0;36mSendGreeting.__init__\u001b[1;34m(self, name, email)\u001b[0m\n\u001b[0;32m     10\u001b[0m \u001b[38;5;28;01mdef\u001b[39;00m \u001b[38;5;21m__init__\u001b[39m(\u001b[38;5;28mself\u001b[39m, name: \u001b[38;5;28mstr\u001b[39m, email: \u001b[38;5;28mstr\u001b[39m) \u001b[38;5;241m-\u001b[39m\u001b[38;5;241m>\u001b[39m \u001b[38;5;28;01mNone\u001b[39;00m:\n\u001b[1;32m---> 11\u001b[0m     \u001b[38;5;28;43msuper\u001b[39;49m\u001b[43m(\u001b[49m\u001b[43m)\u001b[49m\u001b[38;5;241;43m.\u001b[39;49m\u001b[38;5;21;43m__init__\u001b[39;49m\u001b[43m(\u001b[49m\u001b[43mname\u001b[49m\u001b[43m,\u001b[49m\u001b[43m \u001b[49m\u001b[43memail\u001b[49m\u001b[43m)\u001b[49m\n",
      "Cell \u001b[1;32mIn[17], line 5\u001b[0m, in \u001b[0;36mUser.__init__\u001b[1;34m(self, name, email)\u001b[0m\n\u001b[0;32m      3\u001b[0m \u001b[38;5;28mself\u001b[39m\u001b[38;5;241m.\u001b[39mname  \u001b[38;5;241m=\u001b[39m name\n\u001b[0;32m      4\u001b[0m \u001b[38;5;28;01mif\u001b[39;00m \u001b[38;5;124m'\u001b[39m\u001b[38;5;124m@\u001b[39m\u001b[38;5;124m'\u001b[39m \u001b[38;5;129;01mnot\u001b[39;00m \u001b[38;5;129;01min\u001b[39;00m email:\n\u001b[1;32m----> 5\u001b[0m     \u001b[38;5;28;01mraise\u001b[39;00m \u001b[38;5;167;01mNameError\u001b[39;00m(\u001b[38;5;124m'\u001b[39m\u001b[38;5;124mEmail incorrect\u001b[39m\u001b[38;5;124m'\u001b[39m)\n\u001b[0;32m      6\u001b[0m \u001b[38;5;28mself\u001b[39m\u001b[38;5;241m.\u001b[39memail \u001b[38;5;241m=\u001b[39m email\n",
      "\u001b[1;31mNameError\u001b[0m: Email incorrect"
     ]
    }
   ],
   "source": [
    "class User:\n",
    "    def __init__(self, name: str, email: str) -> None:\n",
    "        self.name  = name\n",
    "        if '@' not in email:\n",
    "            raise NameError('Email incorrect')\n",
    "        self.email = email\n",
    "        \n",
    "class SendGreeting(User):\n",
    "\n",
    "    def __init__(self, name: str, email: str) -> None:\n",
    "        super().__init__(name, email)\n",
    "\n",
    "    def sendEmail(self):\n",
    "        return f'Письмо отправлено {self.name} на почту {self.email}'\n",
    "\n",
    "user1 = SendGreeting('Jack', 'qwertymail.com')\n",
    "print(user1.sendEmail())"
   ]
  },
  {
   "cell_type": "markdown",
   "metadata": {},
   "source": []
  },
  {
   "cell_type": "code",
   "execution_count": 22,
   "metadata": {},
   "outputs": [
    {
     "name": "stdout",
     "output_type": "stream",
     "text": [
      "1764\n",
      "9067.5\n"
     ]
    }
   ],
   "source": [
    "from abc import ABC, abstractmethod\n",
    "\n",
    "class DiscountCalculator(ABC):\n",
    "    @abstractmethod\n",
    "    def calculate(self):\n",
    "        pass\n",
    "class Fixed(DiscountCalculator):\n",
    "\n",
    "    # def __init__(self, price:float) -> None:\n",
    "    #       self.price = price\n",
    "\n",
    "    def calculate(self, price):\n",
    "            return price - 10\n",
    "    \n",
    "class Percentage(DiscountCalculator):\n",
    "\n",
    "    # def __init__(self, price:float) -> None:\n",
    "    #       self.price = price\n",
    "\n",
    "    def calculate(self, price):\n",
    "            return price * 0.9\n",
    "    \n",
    "class DiscountProcessor:\n",
    "      def process_discount(self, discount_type: DiscountCalculator, price):\n",
    "            return discount_type.calculate(price)\n",
    "\n",
    "fix = Fixed()\n",
    "perc = Percentage()\n",
    "price1 = DiscountProcessor()\n",
    "print(price1.process_discount(fix, 1774))\n",
    "print(price1.process_discount(perc, 10075))"
   ]
  },
  {
   "cell_type": "code",
   "execution_count": 31,
   "metadata": {},
   "outputs": [
    {
     "name": "stdout",
     "output_type": "stream",
     "text": [
      "Message Saved to DB\n",
      "None\n"
     ]
    }
   ],
   "source": [
    "class Logger(ABC):\n",
    "    @abstractmethod\n",
    "    def log(self, message):\n",
    "        pass\n",
    "class FileLog(Logger):\n",
    "    def log(self, message):\n",
    "        with open(\"log.txt\", \"w\", encoding='utf-8') as f:\n",
    "            f.write(message + \"\\n\")\n",
    "\n",
    "class DBLog(Logger):\n",
    "    def log(self, message):\n",
    "        return f\"{message} Saved to DB\"\n",
    "    \n",
    "class LoggerProcessor:\n",
    "    def process_log(self, log_type: Logger, message):\n",
    "        return log_type.log(message)\n",
    "    \n",
    "\n",
    "f = FileLog()\n",
    "db = DBLog()\n",
    "\n",
    "log_test = LoggerProcessor()\n",
    "print(log_test.process_log(db, 'Message'))\n",
    "print(log_test.process_log(f, 'Message'))"
   ]
  },
  {
   "cell_type": "code",
   "execution_count": 30,
   "metadata": {},
   "outputs": [],
   "source": [
    "with open('log.txt', 'r', encoding=\"utf-8\") as file:\n",
    "    file.read()\n"
   ]
  },
  {
   "cell_type": "code",
   "execution_count": 40,
   "metadata": {},
   "outputs": [
    {
     "name": "stdout",
     "output_type": "stream",
     "text": [
      "{'width': 5, 'height': 5}\n"
     ]
    }
   ],
   "source": [
    "class Rectangle(ABC):\n",
    "\n",
    "    def __init__(self, width, height):\n",
    "        self.width = width\n",
    "        self.height = height\n",
    "\n",
    "    @abstractmethod\n",
    "    def set_width(self): pass\n",
    "\n",
    "    @abstractmethod\n",
    "    def set_height(self): pass\n",
    "\n",
    "class Square(Rectangle):\n",
    "\n",
    "    def __init__(self, width, height):\n",
    "        super().__init__(width, height)\n",
    "\n",
    "    def set_width(self, width):\n",
    "        self.width = self.height = width\n",
    "\n",
    "    def set_height(self, height):\n",
    "        self.width = self.height = height\n",
    "\n",
    "square = Square(5, 5)\n",
    "print(square.__dict__)\n"
   ]
  },
  {
   "cell_type": "code",
   "execution_count": 42,
   "metadata": {},
   "outputs": [
    {
     "name": "stdout",
     "output_type": "stream",
     "text": [
      "Страус умеет бегать\n"
     ]
    }
   ],
   "source": [
    "class Bird:\n",
    "   pass\n",
    "\n",
    "class FlyingBird(Bird):\n",
    "    def fly(self):\n",
    "        print(\"Птица летит\")\n",
    "\n",
    "\n",
    "class Ostrich(Bird):\n",
    "    def run(self):\n",
    "        print(\"Страус умеет бегать\")\n",
    "\n",
    "ostrich = Ostrich()\n",
    "ostrich.run() "
   ]
  },
  {
   "cell_type": "markdown",
   "metadata": {},
   "source": [
    "Модульное тестирование"
   ]
  },
  {
   "cell_type": "code",
   "execution_count": 1,
   "metadata": {},
   "outputs": [
    {
     "name": "stdout",
     "output_type": "stream",
     "text": [
      "Defaulting to user installation because normal site-packages is not writeable\n",
      "Collecting pytest\n",
      "  Downloading pytest-8.3.4-py3-none-any.whl.metadata (7.5 kB)\n",
      "Requirement already satisfied: colorama in c:\\users\\279015609\\appdata\\roaming\\python\\python312\\site-packages (from pytest) (0.4.6)\n",
      "Collecting iniconfig (from pytest)\n",
      "  Downloading iniconfig-2.0.0-py3-none-any.whl.metadata (2.6 kB)\n",
      "Requirement already satisfied: packaging in c:\\users\\279015609\\appdata\\roaming\\python\\python312\\site-packages (from pytest) (24.2)\n",
      "Collecting pluggy<2,>=1.5 (from pytest)\n",
      "  Downloading pluggy-1.5.0-py3-none-any.whl.metadata (4.8 kB)\n",
      "Downloading pytest-8.3.4-py3-none-any.whl (343 kB)\n",
      "   ---------------------------------------- 0.0/343.1 kB ? eta -:--:--\n",
      "   - -------------------------------------- 10.2/343.1 kB ? eta -:--:--\n",
      "   ---- ---------------------------------- 41.0/343.1 kB 487.6 kB/s eta 0:00:01\n",
      "   ----------- -------------------------- 102.4/343.1 kB 737.3 kB/s eta 0:00:01\n",
      "   --------------------- ------------------ 184.3/343.1 kB 1.0 MB/s eta 0:00:01\n",
      "   --------------------------------- ------ 286.7/343.1 kB 1.4 MB/s eta 0:00:01\n",
      "   ---------------------------------------- 343.1/343.1 kB 1.4 MB/s eta 0:00:00\n",
      "Downloading pluggy-1.5.0-py3-none-any.whl (20 kB)\n",
      "Downloading iniconfig-2.0.0-py3-none-any.whl (5.9 kB)\n",
      "Installing collected packages: pluggy, iniconfig, pytest\n",
      "Successfully installed iniconfig-2.0.0 pluggy-1.5.0 pytest-8.3.4\n",
      "Note: you may need to restart the kernel to use updated packages.\n"
     ]
    },
    {
     "name": "stderr",
     "output_type": "stream",
     "text": [
      "\n",
      "[notice] A new release of pip is available: 24.0 -> 25.0.1\n",
      "[notice] To update, run: python.exe -m pip install --upgrade pip\n"
     ]
    }
   ],
   "source": [
    "pip install pytest"
   ]
  },
  {
   "cell_type": "code",
   "execution_count": 2,
   "metadata": {},
   "outputs": [],
   "source": [
    "import pytest"
   ]
  },
  {
   "cell_type": "markdown",
   "metadata": {},
   "source": [
    "Урок 19.02\n",
    "Многопоточность\n",
    "Thread-safe - потокобезопасность. Означает, что при работе с объектом не возникают известные проблемы при работе с конкурентностью, такие как:\n",
    "- состояние гонки (race condition) - несколько потоков измененяют один и тот же общий ресурс, результат зависит от порядка их выполнения\n",
    "- взаимная блокировка (deadlock) - два потока блокируют друг друга, ожидая освобождения ресурса (один ждет другого, а другой - первого)\n",
    "- живой тупик (livelock) - потоки не блокируются полностью, но постоянно меняют состояние, мешая друг другу работать\n",
    "- голодание потока (starvation) - поток не получает доступ к ресурсу из-за того, что другие процессы его постоянно захватывают (низкий приоритет выполнения)\n",
    "- ошибки согласованность памяти (memory consistency error) - поток может увидеть устаревшие значения переменной, записанные другим потоком"
   ]
  },
  {
   "cell_type": "code",
   "execution_count": 1,
   "metadata": {},
   "outputs": [
    {
     "name": "stdout",
     "output_type": "stream",
     "text": [
      "Defaulting to user installation because normal site-packages is not writeable\n",
      "Collecting requests\n",
      "  Downloading requests-2.32.3-py3-none-any.whl.metadata (4.6 kB)\n",
      "Collecting charset-normalizer<4,>=2 (from requests)\n",
      "  Downloading charset_normalizer-3.4.1-cp312-cp312-win_amd64.whl.metadata (36 kB)\n",
      "Collecting idna<4,>=2.5 (from requests)\n",
      "  Downloading idna-3.10-py3-none-any.whl.metadata (10 kB)\n",
      "Collecting urllib3<3,>=1.21.1 (from requests)\n",
      "  Downloading urllib3-2.3.0-py3-none-any.whl.metadata (6.5 kB)\n",
      "Collecting certifi>=2017.4.17 (from requests)\n",
      "  Downloading certifi-2025.1.31-py3-none-any.whl.metadata (2.5 kB)\n",
      "Downloading requests-2.32.3-py3-none-any.whl (64 kB)\n",
      "Downloading certifi-2025.1.31-py3-none-any.whl (166 kB)\n",
      "Downloading charset_normalizer-3.4.1-cp312-cp312-win_amd64.whl (102 kB)\n",
      "Downloading idna-3.10-py3-none-any.whl (70 kB)\n",
      "Downloading urllib3-2.3.0-py3-none-any.whl (128 kB)\n",
      "Installing collected packages: urllib3, idna, charset-normalizer, certifi, requests\n",
      "Successfully installed certifi-2025.1.31 charset-normalizer-3.4.1 idna-3.10 requests-2.32.3 urllib3-2.3.0\n"
     ]
    }
   ],
   "source": [
    "!pip install requests"
   ]
  },
  {
   "cell_type": "code",
   "execution_count": null,
   "metadata": {},
   "outputs": [],
   "source": [
    "import threading\n",
    "import time\n"
   ]
  },
  {
   "cell_type": "markdown",
   "metadata": {},
   "source": [
    "Урок 24.02\n",
    "Любая программа - это один процесс и один поток.\n",
    "Процесс - набор ресурсов.\n"
   ]
  },
  {
   "cell_type": "code",
   "execution_count": null,
   "metadata": {},
   "outputs": [],
   "source": [
    "def info():\n",
    "    pid = os.getpid()\n",
    "    "
   ]
  },
  {
   "cell_type": "markdown",
   "metadata": {},
   "source": [
    "daemon - помечает поток как демон-поток. Когда в процессе остались только потоки-демоны, процесс и все потоки завершаются."
   ]
  },
  {
   "cell_type": "code",
   "execution_count": null,
   "metadata": {},
   "outputs": [],
   "source": [
    "counter = [0]\n",
    "\n",
    "def inc():\n",
    "    c = counter[0] "
   ]
  },
  {
   "cell_type": "markdown",
   "metadata": {},
   "source": [
    "Асинхронное программирование\n",
    "Еще один метод параллелизации.\n",
    "asyncio - асинхронное выполнение, подходит для IO-bound задач, работает ровно 1 поток\n",
    "\n",
    "Как появилось асинхронное программирование\n",
    "IO-запрос - input-output запрос, обычно занимают много времени из-за ожидания, намного дольше, чем другие процессы процессора\n",
    "Асинхронный подход - пока ждем выполнения запроса, делаем остальные операции.\n",
    "\n",
    "\n",
    "\n",
    "Что нужно, чтобы это заработало в питоне\n",
    "\n",
    "--- ОС\n",
    "- Рассказать о том, что данные пришли, они на сокете\n",
    "\n",
    "--- Питон\n",
    "- Должна быть функция, которая умеет вставать на паузу, передавать возможность другим функциям работать\n",
    "- Флаги таких функций, чтобы мы их могли отличать\n",
    "- В коде возможность пометить, где мы стоим на паузе\n",
    "- Механизм контроля, который, получив уведомление от ОС, что данные пришли, запускает первоначальную функцию\n",
    "\n",
    "1) Генератор - функция, которая встает на паузу. Если мы его вызываем с круглыми скобками, возвращает объект, а не результат операций.\n",
    "2) async - явный флаг, который показывает, что функция - это корутина\n",
    "3) await - флаг, который указывает на место паузы\n",
    "4) event loop - механизм, который управляет корутинами, цикл событий. Сейчас выполняется неявно в asyncio.run()\n",
    "\n",
    "Плюсы\n",
    "+ Скорость и экономия времени (t = время максимального процесса)\n",
    "+ управляемость\n",
    "+ меньшее потребление ресурсов\n",
    "\n",
    "Минусы\n",
    "- \"умирает\" из-за одного блокирующего вызова\n",
    "- EventLoop не резиновый, скорость сильно замедлится, если корутин будет сильно много, они начнут конкурировать за время\n",
    "- не быстрее многопоточки\n",
    "\n"
   ]
  },
  {
   "cell_type": "code",
   "execution_count": 3,
   "metadata": {},
   "outputs": [
    {
     "name": "stdout",
     "output_type": "stream",
     "text": [
      "<function example at 0x000002C2E43B2D40>\n"
     ]
    }
   ],
   "source": [
    "import asyncio\n",
    "\n",
    "\n",
    "async def example():\n",
    "    print(100)\n",
    "\n",
    "print(example)\n"
   ]
  },
  {
   "cell_type": "code",
   "execution_count": null,
   "metadata": {},
   "outputs": [],
   "source": []
  }
 ],
 "metadata": {
  "kernelspec": {
   "display_name": "Python 3",
   "language": "python",
   "name": "python3"
  },
  "language_info": {
   "codemirror_mode": {
    "name": "ipython",
    "version": 3
   },
   "file_extension": ".py",
   "mimetype": "text/x-python",
   "name": "python",
   "nbconvert_exporter": "python",
   "pygments_lexer": "ipython3",
   "version": "3.12.2"
  }
 },
 "nbformat": 4,
 "nbformat_minor": 2
}
