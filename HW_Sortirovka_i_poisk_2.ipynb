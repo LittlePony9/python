{
 "cells": [
  {
   "cell_type": "markdown",
   "metadata": {},
   "source": [
    "Задание 1\n",
    "Необходимо отсортировать первые две трети списка\n",
    "в порядке возрастания, если среднее арифметическое\n",
    "всех элементов больше нуля; иначе — лишь первую треть.\n",
    "Остальную часть списка не сортировать, а расположить\n",
    "в обратном порядке"
   ]
  },
  {
   "cell_type": "code",
   "execution_count": 1,
   "metadata": {},
   "outputs": [
    {
     "name": "stdout",
     "output_type": "stream",
     "text": [
      "Исходный список: [4, -3, 7, -2, 5, 0, -1, 8, -6, 9, -5, 2]\n",
      "Результат: [-3, -2, -1, 0, 4, 5, 7, 8, 2, -5, 9, -6]\n"
     ]
    }
   ],
   "source": [
    "def custom_sort(lst):\n",
    "    avg = sum(lst) / len(lst)\n",
    "    \n",
    "    if avg > 0:\n",
    "        split_index = len(lst) * 2 // 3\n",
    "        first_part = sorted(lst[:split_index])\n",
    "        second_part = lst[split_index:][::-1]\n",
    "        result = first_part + second_part\n",
    "    else:\n",
    "        split_index = len(lst) // 3\n",
    "        first_part = sorted(lst[:split_index])\n",
    "        middle_part = lst[split_index:len(lst) * 2 // 3]\n",
    "        last_part = lst[len(lst) * 2 // 3:][::-1]\n",
    "        result = first_part + middle_part + last_part\n",
    "\n",
    "    return result\n",
    "\n",
    "\n",
    "if __name__ == \"__main__\":\n",
    "    lst = [4, -3, 7, -2, 5, 0, -1, 8, -6, 9, -5, 2]\n",
    "    print(\"Исходный список:\", lst)\n",
    "    sorted_lst = custom_sort(lst)\n",
    "    print(\"Результат:\", sorted_lst)\n"
   ]
  },
  {
   "cell_type": "markdown",
   "metadata": {},
   "source": [
    "Задание 2\n",
    "Написать программу «успеваемость». Пользователь\n",
    "вводит 10 оценок студента. Оценки от 1 до 12. Реализовать\n",
    "меню для пользователя:\n",
    "■ Вывод оценок (вывод содержимого списка);\n",
    "■ Пересдача экзамена (пользователь вводит номер элемента списка и новую оценку);\n",
    "■ Выходит ли стипендия (стипендия выходит, если\n",
    "средний бал не ниже 10.7);\n",
    "■ Вывод отсортированного списка оценок: по возрастанию или убыванию."
   ]
  },
  {
   "cell_type": "code",
   "execution_count": 3,
   "metadata": {},
   "outputs": [
    {
     "name": "stdout",
     "output_type": "stream",
     "text": [
      "Введите 10 оценок студента (от 1 до 12):\n",
      "Ошибка: введите числовое значение.\n",
      "\n",
      "Меню:\n",
      "1. Вывод оценок\n",
      "2. Пересдача экзамена\n",
      "3. Выходит ли стипендия\n",
      "4. Вывод отсортированного списка оценок\n",
      "5. Выход\n",
      "Средний балл: 3.10. Стипендия не выходит.\n",
      "\n",
      "Меню:\n",
      "1. Вывод оценок\n",
      "2. Пересдача экзамена\n",
      "3. Выходит ли стипендия\n",
      "4. Вывод отсортированного списка оценок\n",
      "5. Выход\n",
      "Выход из программы.\n"
     ]
    }
   ],
   "source": [
    "def display_grades(grades):\n",
    "    print(\"Оценки студента:\", grades)\n",
    "\n",
    "\n",
    "def retake_exam(grades):\n",
    "    try:\n",
    "        index = int(input(\"Введите номер экзамена (1-10): \")) - 1\n",
    "        if 0 <= index < len(grades):\n",
    "            new_grade = int(input(\"Введите новую оценку (от 1 до 12): \"))\n",
    "            if 1 <= new_grade <= 12:\n",
    "                grades[index] = new_grade\n",
    "                print(\"Оценка обновлена.\")\n",
    "            else:\n",
    "                print(\"Ошибка: оценка должна быть от 1 до 12.\")\n",
    "        else:\n",
    "            print(\"Ошибка: номер экзамена должен быть от 1 до 10.\")\n",
    "    except ValueError:\n",
    "        print(\"Ошибка: введите числовое значение.\")\n",
    "\n",
    "\n",
    "def check_scholarship(grades):\n",
    "    average_grade = sum(grades) / len(grades)\n",
    "    if average_grade >= 10.7:\n",
    "        print(f\"Средний балл: {average_grade:.2f}. Стипендия выходит!\")\n",
    "    else:\n",
    "        print(f\"Средний балл: {average_grade:.2f}. Стипендия не выходит.\")\n",
    "\n",
    "\n",
    "def sort_grades(grades):\n",
    "    order = input(\"Выберите порядок сортировки (введите 'возрастание' или 'убывание'): \").strip().lower()\n",
    "    if order == \"возрастание\":\n",
    "        grades.sort()\n",
    "        print(\"Оценки отсортированы по возрастанию.\")\n",
    "    elif order == \"убывание\":\n",
    "        grades.sort(reverse=True)\n",
    "        print(\"Оценки отсортированы по убыванию.\")\n",
    "    else:\n",
    "        print(\"Ошибка: неизвестный порядок сортировки.\")\n",
    "\n",
    "\n",
    "def main():\n",
    "    grades = []\n",
    "    print(\"Введите 10 оценок студента (от 1 до 12):\")\n",
    "    for i in range(10):\n",
    "        while True:\n",
    "            try:\n",
    "                grade = int(input(f\"Оценка {i + 1}: \"))\n",
    "                if 1 <= grade <= 12:\n",
    "                    grades.append(grade)\n",
    "                    break\n",
    "                else:\n",
    "                    print(\"Ошибка: оценка должна быть от 1 до 12.\")\n",
    "            except ValueError:\n",
    "                print(\"Ошибка: введите числовое значение.\")\n",
    "\n",
    "    while True:\n",
    "        print(\"\\nМеню:\")\n",
    "        print(\"1. Вывод оценок\")\n",
    "        print(\"2. Пересдача экзамена\")\n",
    "        print(\"3. Выходит ли стипендия\")\n",
    "        print(\"4. Вывод отсортированного списка оценок\")\n",
    "        print(\"5. Выход\")\n",
    "        \n",
    "        choice = input(\"Выберите пункт меню: \").strip()\n",
    "        if choice == \"1\":\n",
    "            display_grades(grades)\n",
    "        elif choice == \"2\":\n",
    "            retake_exam(grades)\n",
    "        elif choice == \"3\":\n",
    "            check_scholarship(grades)\n",
    "        elif choice == \"4\":\n",
    "            sort_grades(grades)\n",
    "        elif choice == \"5\":\n",
    "            print(\"Выход из программы.\")\n",
    "            break\n",
    "        else:\n",
    "            print(\"Ошибка: неизвестный пункт меню.\")\n",
    "\n",
    "\n",
    "if __name__ == \"__main__\":\n",
    "    main()\n"
   ]
  },
  {
   "cell_type": "markdown",
   "metadata": {},
   "source": [
    "Задание 3\n",
    "Написать программу, реализующую сортировку списка\n",
    "методом усовершенствованной сортировки пузырьковым\n",
    "методом. Усовершенствование состоит в том, чтобы анализировать количество перестановок на каждом шагу, если\n",
    "это количество равно нулю, то продолжать сортировку\n",
    "нет смысла — список отсортирован."
   ]
  },
  {
   "cell_type": "code",
   "execution_count": 4,
   "metadata": {},
   "outputs": [
    {
     "name": "stdout",
     "output_type": "stream",
     "text": [
      "Введите список чисел через пробел:\n",
      "Исходный список: [4, 5, 5, 57, 78, 5]\n",
      "Список отсортирован на шаге 3.\n",
      "Отсортированный список: [4, 5, 5, 5, 57, 78]\n"
     ]
    }
   ],
   "source": [
    "def bubble_sort_optimized(lst):\n",
    "    n = len(lst)\n",
    "    for i in range(n - 1):\n",
    "        swapped = False  \n",
    "        for j in range(n - 1 - i):\n",
    "            if lst[j] > lst[j + 1]:\n",
    "                lst[j], lst[j + 1] = lst[j + 1], lst[j]\n",
    "                swapped = True\n",
    "        if not swapped:  \n",
    "            print(f\"Список отсортирован на шаге {i + 1}.\")\n",
    "            break\n",
    "    return lst\n",
    "\n",
    "\n",
    "def main():\n",
    "    print(\"Введите список чисел через пробел:\")\n",
    "    try:\n",
    "        numbers = list(map(int, input().split()))\n",
    "        print(\"Исходный список:\", numbers)\n",
    "        sorted_list = bubble_sort_optimized(numbers)\n",
    "        print(\"Отсортированный список:\", sorted_list)\n",
    "    except ValueError:\n",
    "        print(\"Ошибка: введите только числа.\")\n",
    "\n",
    "\n",
    "if __name__ == \"__main__\":\n",
    "    main()\n"
   ]
  }
 ],
 "metadata": {
  "kernelspec": {
   "display_name": "Python 3",
   "language": "python",
   "name": "python3"
  },
  "language_info": {
   "codemirror_mode": {
    "name": "ipython",
    "version": 3
   },
   "file_extension": ".py",
   "mimetype": "text/x-python",
   "name": "python",
   "nbconvert_exporter": "python",
   "pygments_lexer": "ipython3",
   "version": "3.11.3"
  }
 },
 "nbformat": 4,
 "nbformat_minor": 2
}
