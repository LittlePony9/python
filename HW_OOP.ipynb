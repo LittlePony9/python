{
 "cells": [
  {
   "cell_type": "markdown",
   "metadata": {},
   "source": [
    "Задание №1 Class “Книга”\n",
    "Создайте класс Книга с атрибутами:\n",
    "название (строка),\n",
    "автор (строка),\n",
    "год_издания (целое число),\n",
    "количество_страниц (целое число),\n",
    "цена (вещественное число),\n",
    "Добавьте в класс Книга метод рассчитать_стоимость, который будет возвращать стоимость книги, исходя из ее цены и количества страниц. Формула для расчета стоимости: цена * количество_страниц / 100.\n",
    "Добавьте в класс Книга метод изменить_количество_страниц, который будет принимать новое количество страниц и изменять соответствующий атрибут."
   ]
  },
  {
   "cell_type": "code",
   "execution_count": 4,
   "metadata": {},
   "outputs": [
    {
     "name": "stdout",
     "output_type": "stream",
     "text": [
      "Стоимость книги: 51.168\n",
      "Новое количество страниц: 350\n",
      "Новая стоимость книги: 55.965\n"
     ]
    }
   ],
   "source": [
    "class Book:\n",
    "    def __init__(self, title, author, year_of_publication, number_of_pages, price):\n",
    "        self.title = title\n",
    "        self.author = author\n",
    "        self.year_of_publication = year_of_publication\n",
    "        self.number_of_pages = number_of_pages\n",
    "        self.price = price\n",
    "\n",
    "    def calculate_cost(self):\n",
    "        return self.price * self.number_of_pages / 100\n",
    "\n",
    "    def change_number_of_pages(self, new_number_of_pages):\n",
    "        self.number_of_pages = new_number_of_pages\n",
    "\n",
    "book = Book(\"Harry Potter\", \"J.K. Rowling\", 1997, 320, 15.99)\n",
    "\n",
    "print(f\"Стоимость книги: {book.calculate_cost()}\")\n",
    "\n",
    "book.change_number_of_pages(350)\n",
    "print(f\"Новое количество страниц: {book.number_of_pages}\")\n",
    "print(f\"Новая стоимость книги: {book.calculate_cost()}\")\n",
    "\n"
   ]
  },
  {
   "cell_type": "markdown",
   "metadata": {},
   "source": [
    "Задание №2 Class “Counter”\n",
    "Создайте класс Счетчик, который будет моделировать счетчик, используемый для подсчета чего-либо. Класс должен иметь следующие свойства и методы:\n",
    "Приватное свойство _значение, которое хранит текущее значение счетчика.\n",
    "Метод увеличить(), который увеличивает значение счетчика на 1.\n",
    "Метод уменьшить(), который уменьшает значение счетчика на 1.\n",
    "Метод получить_значение(), который возвращает текущее значение счетчика.\n",
    "Метод сбросить(), который сбрасывает значение счетчика на 0.\n",
    "Дополнительные требования:\n",
    "Значение счетчика не может быть меньше 0.\n",
    "При попытке уменьшить значение счетчика ниже 0, оно должно оставаться равным 0.\n"
   ]
  },
  {
   "cell_type": "code",
   "execution_count": 6,
   "metadata": {},
   "outputs": [
    {
     "name": "stdout",
     "output_type": "stream",
     "text": [
      "1\n",
      "0\n",
      "0\n",
      "0\n"
     ]
    }
   ],
   "source": [
    "class Counter:\n",
    "    def __init__(self):\n",
    "        self._value = 0 \n",
    "\n",
    "    def increase(self):\n",
    "        self._value += 1\n",
    "\n",
    "    def decrease(self):\n",
    "        if self._value > 0:\n",
    "            self._value -= 1\n",
    "        else:\n",
    "            self._value = 0\n",
    "\n",
    "    def get_value(self):\n",
    "        return self._value\n",
    "\n",
    "    def reset(self):\n",
    "        self._value = 0  \n",
    "\n",
    "counter = Counter()\n",
    "\n",
    "counter.increase()\n",
    "print(counter.get_value()) \n",
    "\n",
    "counter.decrease()\n",
    "print(counter.get_value()) \n",
    "\n",
    "counter.decrease()  \n",
    "print(counter.get_value()) \n",
    "\n",
    "counter.reset()\n",
    "print(counter.get_value())  \n"
   ]
  },
  {
   "cell_type": "markdown",
   "metadata": {},
   "source": [
    "Задание №3 Class “BankAcc”\n",
    "Создайте класс БанковскийСчет, который будет моделировать банковский счет. Класс должен иметь следующие свойства и методы:\n",
    "Приватное свойство _баланс, которое хранит текущий баланс счета.\n",
    "Метод положить_деньги(сумма), который увеличивает баланс на указанную сумму.\n",
    "Метод снять_деньги(сумма), который уменьшает баланс на указанную сумму. Если на счете недостаточно средств, должно выводиться сообщение об ошибке.\n",
    "Метод получить_баланс(), который возвращает текущий баланс счета.\n",
    "Метод перевести_деньги(другой_счет, сумма), который переводит указанную сумму с текущего счета на другой счет. Если на текущем счете недостаточно средств, должно выводиться сообщение об ошибке.\n",
    "Дополнительные требования:\n",
    "Баланс не может быть отрицательным.\n",
    "Сумма, передаваемая в методы, должна быть положительной."
   ]
  },
  {
   "cell_type": "code",
   "execution_count": 7,
   "metadata": {},
   "outputs": [
    {
     "name": "stdout",
     "output_type": "stream",
     "text": [
      "1000\n",
      "Недостаточно средств на счете\n",
      "500\n",
      "300\n",
      "200\n"
     ]
    }
   ],
   "source": [
    "class BankAcc:\n",
    "    def __init__(self):\n",
    "        self._balance = 0  \n",
    "\n",
    "    def deposit(self, amount):\n",
    "        if amount > 0:\n",
    "            self._balance += amount  \n",
    "        else:\n",
    "            print(\"Сумма депозита должна быть положительной\")\n",
    "\n",
    "    def withdraw(self, amount):\n",
    "        if amount > 0:\n",
    "            if self._balance >= amount:\n",
    "                self._balance -= amount  \n",
    "            else:\n",
    "                print(\"Недостаточно средств на счете\")\n",
    "        else:\n",
    "            print(\"Сумма снятия должна быть положительной\")\n",
    "\n",
    "    def get_balance(self):\n",
    "        return self._balance  \n",
    "\n",
    "    def transfer(self, other_account, amount):\n",
    "        if amount > 0:\n",
    "            if self._balance >= amount:\n",
    "                self._balance -= amount\n",
    "                other_account.deposit(amount)  \n",
    "            else:\n",
    "                print(\"Недостаточно средств для перевода\")\n",
    "        else:\n",
    "            print(\"Сумма перевода должна быть положительной\")\n",
    "\n",
    "account1 = BankAcc()\n",
    "account2 = BankAcc()\n",
    "\n",
    "\n",
    "account1.deposit(1000)\n",
    "print(account1.get_balance())\n",
    "\n",
    "\n",
    "account1.withdraw(1500)\n",
    "\n",
    "\n",
    "account1.withdraw(500)\n",
    "print(account1.get_balance())\n",
    "\n",
    "\n",
    "account1.transfer(account2, 200)\n",
    "print(account1.get_balance())\n",
    "print(account2.get_balance())\n"
   ]
  }
 ],
 "metadata": {
  "kernelspec": {
   "display_name": "Python 3",
   "language": "python",
   "name": "python3"
  },
  "language_info": {
   "codemirror_mode": {
    "name": "ipython",
    "version": 3
   },
   "file_extension": ".py",
   "mimetype": "text/x-python",
   "name": "python",
   "nbconvert_exporter": "python",
   "pygments_lexer": "ipython3",
   "version": "3.11.3"
  }
 },
 "nbformat": 4,
 "nbformat_minor": 2
}
