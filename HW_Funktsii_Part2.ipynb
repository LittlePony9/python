{
 "cells": [
  {
   "cell_type": "markdown",
   "metadata": {},
   "source": [
    "Задание 1\n",
    "Напишите функцию, вычисляющую произведение элементов списка целых. Список передаётся в качестве параметра. Полученный результат возвращается из функции."
   ]
  },
  {
   "cell_type": "code",
   "execution_count": 6,
   "metadata": {},
   "outputs": [
    {
     "name": "stdout",
     "output_type": "stream",
     "text": [
      "120\n"
     ]
    }
   ],
   "source": [
    "def multiplication(list_1):\n",
    "    result = 1\n",
    "    for i in list_1:\n",
    "        result *= i\n",
    "    return result\n",
    "\n",
    "res = multiplication([1, 2, 3, 4, 5])\n",
    "print(res)\n"
   ]
  },
  {
   "cell_type": "markdown",
   "metadata": {},
   "source": [
    "Задание 2\n",
    "Напишите функцию для нахождения минимума в списке целых. Список передаётся в качестве параметра. Полученный результат возвращается из функции."
   ]
  },
  {
   "cell_type": "code",
   "execution_count": 7,
   "metadata": {},
   "outputs": [
    {
     "name": "stdout",
     "output_type": "stream",
     "text": [
      "-45\n"
     ]
    }
   ],
   "source": [
    "def minimum(numbers):\n",
    "    result = min(numbers)\n",
    "    return result\n",
    "\n",
    "min_number = minimum([1, 15, 26, -45])\n",
    "print(min_number)\n"
   ]
  },
  {
   "cell_type": "markdown",
   "metadata": {},
   "source": [
    "Задание 3\n",
    "Напишите функцию, определяющую количество простых чисел в списке целых. Список передаётся в качестве параметра. Полученный результат возвращается из функции."
   ]
  },
  {
   "cell_type": "code",
   "execution_count": 15,
   "metadata": {},
   "outputs": [
    {
     "data": {
      "text/plain": [
       "4"
      ]
     },
     "execution_count": 15,
     "metadata": {},
     "output_type": "execute_result"
    }
   ],
   "source": [
    "def is_prime(n):\n",
    "    if n <= 1:\n",
    "        return False\n",
    "    for i in range(2, int(n**0.5) + 1):\n",
    "        if n % i == 0:\n",
    "            return False\n",
    "    return True\n",
    "\n",
    "def count_primes(numbers):\n",
    "    count = 0\n",
    "    for number in numbers:\n",
    "        if is_prime(number):\n",
    "            count += 1\n",
    "    return count\n",
    "\n",
    "count_primes([13, 3, 2, 88, 5])\n",
    "\n",
    "        "
   ]
  },
  {
   "cell_type": "markdown",
   "metadata": {},
   "source": [
    "Задание 4\n",
    "Напишите функцию, удаляющую из списка целых некоторое заданное число. Из функции нужно вернуть количество удаленных элементов."
   ]
  },
  {
   "cell_type": "code",
   "execution_count": null,
   "metadata": {},
   "outputs": [],
   "source": [
    "def delete(numbers):\n",
    "    deleted_number = int(input())\n",
    "    if deleted_number in numbers:\n",
    "        "
   ]
  }
 ],
 "metadata": {
  "kernelspec": {
   "display_name": "Python 3",
   "language": "python",
   "name": "python3"
  },
  "language_info": {
   "codemirror_mode": {
    "name": "ipython",
    "version": 3
   },
   "file_extension": ".py",
   "mimetype": "text/x-python",
   "name": "python",
   "nbconvert_exporter": "python",
   "pygments_lexer": "ipython3",
   "version": "3.11.3"
  }
 },
 "nbformat": 4,
 "nbformat_minor": 2
}
