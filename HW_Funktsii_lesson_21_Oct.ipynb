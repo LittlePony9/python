{
 "cells": [
  {
   "cell_type": "markdown",
   "metadata": {},
   "source": [
    "**Задание 1**\n",
    "Напишите функцию, которая отображает на экран форматированный текст, указанный ниже:\n",
    "*“Don't compare yourself with anyone in this world… if you do so, you are insulting yourself.”\n",
    "                                                                                            Bill Gates*"
   ]
  },
  {
   "cell_type": "code",
   "execution_count": 8,
   "metadata": {},
   "outputs": [
    {
     "name": "stdout",
     "output_type": "stream",
     "text": [
      "“Don't compare yourself with anyone in this world… if you do so, you are insulting yourself.”\n",
      "\t\t\t\t\t\t\t\t\t\t\tBill Gates\n"
     ]
    }
   ],
   "source": [
    "def quote():\n",
    "    text = '“Don\\'t compare yourself with anyone in this world… if you do so, you are insulting yourself.”'\n",
    "    author = 'Bill Gates'\n",
    "    print(text + '\\n' + (\"\\t\" * 11) + author)\n",
    "\n",
    "quote()"
   ]
  },
  {
   "cell_type": "markdown",
   "metadata": {},
   "source": [
    "Задание 2\n",
    "Напишите функцию, которая принимает два числа в качестве параметра и отображает все четные числа между ними."
   ]
  },
  {
   "cell_type": "code",
   "execution_count": 9,
   "metadata": {},
   "outputs": [
    {
     "data": {
      "text/plain": [
       "[4, 6, 8, 10, 12, 14]"
      ]
     },
     "execution_count": 9,
     "metadata": {},
     "output_type": "execute_result"
    }
   ],
   "source": [
    "def even_numbers(a, b):\n",
    "    l = []\n",
    "    for i in range(a + 1, b):\n",
    "        if i % 2 == 0:\n",
    "            l.append(i)\n",
    "    return l\n",
    "\n",
    "even_numbers(2, 15)"
   ]
  },
  {
   "cell_type": "markdown",
   "metadata": {},
   "source": [
    "Задание 3\n",
    "Напишите функцию, которая отображает пустой или заполненный квадрат из некоторого символа. Функция принимает в качестве параметров: длину стороны квадрата, символ и переменную логического типа:\n",
    "■ если она равна True, квадрат заполненный;\n",
    "■ если False, квадрат пустой."
   ]
  },
  {
   "cell_type": "code",
   "execution_count": 78,
   "metadata": {},
   "outputs": [
    {
     "name": "stdout",
     "output_type": "stream",
     "text": [
      "* * * * * * * * * * * * \n",
      "* * * * * * * * * * * * \n",
      "* * * * * * * * * * * * \n",
      "* * * * * * * * * * * * \n",
      "* * * * * * * * * * * * \n",
      "* * * * * * * * * * * * \n",
      "* * * * * * * * * * * * \n",
      "* * * * * * * * * * * * \n",
      "* * * * * * * * * * * * \n",
      "* * * * * * * * * * * * \n",
      "* * * * * * * * * * * * \n",
      "* * * * * * * * * * * * \n",
      "\n",
      "* * * * * * * * * * * * \n",
      "*                     *\n",
      "*                     *\n",
      "*                     *\n",
      "*                     *\n",
      "*                     *\n",
      "*                     *\n",
      "*                     *\n",
      "*                     *\n",
      "*                     *\n",
      "*                     *\n",
      "* * * * * * * * * * * * \n"
     ]
    }
   ],
   "source": [
    "def square(side, symbol, filled):\n",
    "    if filled == True:\n",
    "        print((((symbol + \" \") * side) + \"\\n\") * side)\n",
    "    elif filled == False:\n",
    "        print((symbol + \" \") * side)\n",
    "        for i in range(side - 2):\n",
    "            print(symbol + \" \" + (\"  \" * (side - 2)) + symbol)\n",
    "        print((symbol + \" \") * side)\n",
    "    else:\n",
    "        print(\"Error\")\n",
    "\n",
    "square(12, \"*\", True)\n",
    "square(12, \"*\", False)"
   ]
  },
  {
   "cell_type": "markdown",
   "metadata": {},
   "source": [
    "Задание 4\n",
    "Напишите функцию, которая возвращает минимальное из пяти чисел. Числа передаются в качестве параметров."
   ]
  },
  {
   "cell_type": "code",
   "execution_count": 79,
   "metadata": {},
   "outputs": [
    {
     "name": "stdout",
     "output_type": "stream",
     "text": [
      "2\n"
     ]
    }
   ],
   "source": [
    "def minimum(a, b, c, d):\n",
    "    print(min(a, b, c, d))\n",
    "\n",
    "minimum(2, 4, 78, 45)"
   ]
  },
  {
   "cell_type": "markdown",
   "metadata": {},
   "source": [
    "Задание 5\n",
    "Напишите функцию, которая возвращает произведение чисел в указанном диапазоне. Границы диапазона\n",
    "передаются в качестве параметров. Если границы диапазона перепутаны, например 5 - верхняя граница, 25 - нижняя, их нужно поменять местами."
   ]
  },
  {
   "cell_type": "code",
   "execution_count": 97,
   "metadata": {},
   "outputs": [
    {
     "name": "stdout",
     "output_type": "stream",
     "text": [
      "3\n"
     ]
    }
   ],
   "source": [
    "def multiplication(start, end):\n",
    "    if start > end:\n",
    "        start, end = end, start\n",
    "    result = 1\n",
    "    for i in range(start + 1, end):\n",
    "        result *=  i\n",
    "    print(result)\n",
    "\n",
    "multiplication(2, 4)"
   ]
  },
  {
   "cell_type": "markdown",
   "metadata": {},
   "source": [
    "Задание 6\n",
    "Напишите функцию, которая считает количество цифр в числе. Число передаётся в качестве параметра. Из функции нужно вернуть полученное количество цифр. Например, если передали 3456, количество цифр будет 4."
   ]
  },
  {
   "cell_type": "code",
   "execution_count": 99,
   "metadata": {},
   "outputs": [
    {
     "name": "stdout",
     "output_type": "stream",
     "text": [
      "5\n"
     ]
    }
   ],
   "source": [
    "def counter(number):\n",
    "    digit_len = len(str(abs(number)))\n",
    "    print(digit_len)\n",
    "\n",
    "counter(-45454)"
   ]
  },
  {
   "cell_type": "markdown",
   "metadata": {},
   "source": [
    "Задание 7\n",
    "Напишите функцию, которая проверяет является ли число палиндромом. Число передаётся в качестве параметра. Если число палиндром нужно вернуть из функции true, иначе false.\n",
    "«Палиндром» — это число, у которого первая часть цифр равна второй перевернутой части цифр. Например, 123321—палиндром (первая часть 123, вторая 321, которая после переворота становится 123), 546645—палиндром, а 421987 — не палиндром."
   ]
  },
  {
   "cell_type": "code",
   "execution_count": 103,
   "metadata": {},
   "outputs": [
    {
     "name": "stdout",
     "output_type": "stream",
     "text": [
      "Not a palindrome\n"
     ]
    }
   ],
   "source": [
    "def palindrome(num):\n",
    "    copied_num = str(abs(num))\n",
    "    if str(num) == copied_num[::-1]:\n",
    "        print(f'It\\'s a palindrome')\n",
    "    else:\n",
    "        print(f'Not a palindrome')\n",
    "\n",
    "palindrome(5757)"
   ]
  }
 ],
 "metadata": {
  "kernelspec": {
   "display_name": "Python 3",
   "language": "python",
   "name": "python3"
  },
  "language_info": {
   "codemirror_mode": {
    "name": "ipython",
    "version": 3
   },
   "file_extension": ".py",
   "mimetype": "text/x-python",
   "name": "python",
   "nbconvert_exporter": "python",
   "pygments_lexer": "ipython3",
   "version": "3.11.3"
  }
 },
 "nbformat": 4,
 "nbformat_minor": 2
}
