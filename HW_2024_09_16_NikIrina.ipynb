{
 "cells": [
  {
   "cell_type": "markdown",
   "metadata": {},
   "source": [
    "Переменные и типы данных"
   ]
  },
  {
   "cell_type": "code",
   "execution_count": 2,
   "metadata": {},
   "outputs": [
    {
     "name": "stdout",
     "output_type": "stream",
     "text": [
      "My name is Irina. I'm 28 years old. Am I a student? False.\n",
      "Next year I will be 29.\n"
     ]
    }
   ],
   "source": [
    "name = 'Irina'\n",
    "age = 28\n",
    "is_student = False\n",
    "print(f\"My name is {name}. I'm {age} years old. Am I a student? {is_student}.\")\n",
    "age += 1\n",
    "print(f\"Next year I will be {age}.\")"
   ]
  },
  {
   "cell_type": "markdown",
   "metadata": {},
   "source": [
    "Математические операции"
   ]
  },
  {
   "cell_type": "code",
   "execution_count": 3,
   "metadata": {},
   "outputs": [
    {
     "name": "stdout",
     "output_type": "stream",
     "text": [
      "Sum: 15, difference: -5, multiplication: 50, division: 0.5, remainder: 0\n"
     ]
    }
   ],
   "source": [
    "a = 5\n",
    "b = 10\n",
    "sum = a + b\n",
    "dif = a - b\n",
    "multipl = a * b\n",
    "div = a / b\n",
    "remainder = b % a\n",
    "\n",
    "print(f\"Sum: {sum}, difference: {dif}, multiplication: {multipl}, division: {div}, remainder: {remainder}\")\n"
   ]
  },
  {
   "cell_type": "markdown",
   "metadata": {},
   "source": [
    "Строковые операции"
   ]
  },
  {
   "cell_type": "code",
   "execution_count": 3,
   "metadata": {},
   "outputs": [
    {
     "name": "stdout",
     "output_type": "stream",
     "text": [
      "HELLO WORLD hello world Hello universe\n"
     ]
    }
   ],
   "source": [
    "message = \"Hello world\"\n",
    "upper = message.upper()\n",
    "lower = message.lower()\n",
    "new_message = message.replace('world', 'universe')\n",
    "print(upper, lower, new_message)"
   ]
  },
  {
   "cell_type": "markdown",
   "metadata": {},
   "source": [
    "Ввод и вывод"
   ]
  },
  {
   "cell_type": "code",
   "execution_count": 4,
   "metadata": {},
   "outputs": [
    {
     "name": "stdout",
     "output_type": "stream",
     "text": [
      "Hi Irina\n"
     ]
    }
   ],
   "source": [
    "username = input('Введите имя')\n",
    "print(f\"Hi {username}\")"
   ]
  },
  {
   "cell_type": "markdown",
   "metadata": {},
   "source": [
    " Дополнительные задания"
   ]
  },
  {
   "cell_type": "code",
   "execution_count": 9,
   "metadata": {},
   "outputs": [
    {
     "name": "stdout",
     "output_type": "stream",
     "text": [
      "['Строка', 15, [1, 1, 2, 3, 5], {'Алиса': 24, 'Виктор': 30, 'Карл': 27}, 'Hello']\n",
      "['Строка', 15, [1, 1, 2, 3, 5], 'Hello']\n",
      "['Строка', 15, {'Лекси': 54}, 'Hello']\n",
      "['Строка', 15, {'Лекси': 54}, 'Hello', 'Chameleon']\n"
     ]
    }
   ],
   "source": [
    "my_list = ['Строка', 15, [1, 1, 2, 3, 5], {\"Алиса\": 24, \"Виктор\": 30, \"Карл\": 27}]\n",
    "my_list.append('Hello')\n",
    "print(my_list)\n",
    "my_list.pop(3)\n",
    "print(my_list)\n",
    "my_list[2] = {\"Лекси\": 54}\n",
    "print(my_list)\n",
    "my_list.append(input(\"Type something\"))\n",
    "print(my_list)"
   ]
  }
 ],
 "metadata": {
  "kernelspec": {
   "display_name": "Python 3",
   "language": "python",
   "name": "python3"
  },
  "language_info": {
   "codemirror_mode": {
    "name": "ipython",
    "version": 3
   },
   "file_extension": ".py",
   "mimetype": "text/x-python",
   "name": "python",
   "nbconvert_exporter": "python",
   "pygments_lexer": "ipython3",
   "version": "3.11.3"
  }
 },
 "nbformat": 4,
 "nbformat_minor": 2
}
