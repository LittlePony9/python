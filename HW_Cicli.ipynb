{
 "cells": [
  {
   "cell_type": "markdown",
   "metadata": {},
   "source": [
    "1. Числа Фибоначчи: Напишите программу, которая выводит первые 50 чисел Фибоначчи. Напоминаем, что ряд Фибоначчи начинается с чисел 0 и 1, а каждое последующее число равно сумме двух предыдущих.\n"
   ]
  },
  {
   "cell_type": "code",
   "execution_count": 4,
   "metadata": {},
   "outputs": [
    {
     "name": "stdout",
     "output_type": "stream",
     "text": [
      "0 1 1 2 3 5 8 13 21 34 55 89 144 233 377 610 987 1597 2584 4181 6765 10946 17711 28657 46368 75025 121393 196418 317811 514229 832040 1346269 2178309 3524578 5702887 9227465 14930352 24157817 39088169 63245986 102334155 165580141 267914296 433494437 701408733 1134903170 1836311903 2971215073 4807526976 7778742049 "
     ]
    }
   ],
   "source": [
    "n = 50\n",
    "x1, x2 = 0, 1\n",
    "for i in range(50):\n",
    "    print(x1, end=\" \")\n",
    "    x1, x2 = x2, x1 + x2\n",
    "\n"
   ]
  },
  {
   "cell_type": "markdown",
   "metadata": {},
   "source": [
    "2. Сумма цифр: Напишите программу, которая принимает на вход натуральное число и вычисляет сумму его цифр.\n"
   ]
  },
  {
   "cell_type": "code",
   "execution_count": 5,
   "metadata": {},
   "outputs": [
    {
     "name": "stdout",
     "output_type": "stream",
     "text": [
      "Сумма цифр числа: 9\n"
     ]
    }
   ],
   "source": [
    "number = int(input(\"Введите натуральное число: \"))\n",
    "sum_of_digits = 0\n",
    "\n",
    "while number > 0:\n",
    "    sum_of_digits += number % 10\n",
    "    number //= 10\n",
    "\n",
    "print(\"Сумма цифр числа:\", sum_of_digits)\n"
   ]
  },
  {
   "cell_type": "markdown",
   "metadata": {},
   "source": [
    "3. Игра \"Угадай число\": Напишите программу, которая \"загадывает\" случайное число от 1 до 100 и предлагает пользователю его угадать. После каждого ввода числа программа должна сообщать, больше загаданное число, меньше или равно. Игра продолжается, пока пользователь не угадает число. В конце игры программа должна вывести количество попыток.\n"
   ]
  },
  {
   "cell_type": "code",
   "execution_count": 6,
   "metadata": {},
   "outputs": [
    {
     "name": "stdout",
     "output_type": "stream",
     "text": [
      "Я загадал число от 1 до 100. Попробуйте угадать!\n",
      "Загаданное число меньше.\n",
      "Загаданное число меньше.\n",
      "Загаданное число меньше.\n",
      "Загаданное число больше.\n",
      "Загаданное число меньше.\n",
      "Поздравляю! Вы угадали число за 6 попыток.\n"
     ]
    }
   ],
   "source": [
    "import random\n",
    "\n",
    "target = random.randint(1, 100)\n",
    "attempts = 0\n",
    "\n",
    "print(\"Я загадал число от 1 до 100. Попробуйте угадать!\")\n",
    "\n",
    "while True:\n",
    "    guess = int(input(\"Введите ваше предположение: \"))\n",
    "    attempts += 1\n",
    "    if guess < target:\n",
    "        print(\"Загаданное число больше.\")\n",
    "    elif guess > target:\n",
    "        print(\"Загаданное число меньше.\")\n",
    "    else:\n",
    "        print(f\"Поздравляю! Вы угадали число за {attempts} попыток.\")\n",
    "        break"
   ]
  },
  {
   "cell_type": "markdown",
   "metadata": {},
   "source": [
    "4. Звездочки: Напишите программу, которая рисует прямоугольник из звездочек, используя циклы. Пользователь вводит высоту и ширину прямоугольника.\n"
   ]
  },
  {
   "cell_type": "code",
   "execution_count": 7,
   "metadata": {},
   "outputs": [
    {
     "name": "stdout",
     "output_type": "stream",
     "text": [
      "*****\n",
      "*****\n",
      "*****\n",
      "*****\n",
      "*****\n"
     ]
    }
   ],
   "source": [
    "height = int(input(\"Введите высоту прямоугольника: \"))\n",
    "width = int(input(\"Введите ширину прямоугольника: \"))\n",
    "\n",
    "for i in range(height):\n",
    "    print(\"*\" * width)"
   ]
  },
  {
   "cell_type": "markdown",
   "metadata": {},
   "source": [
    "Факториал: Напишите программу, которая вычисляет факториал заданного пользователем числа. Факториал числа n (обозначается n!) — это произведение всех натуральных чисел от 1 до n. Использовать функцию factorial() из библиотеки math запрещается!"
   ]
  },
  {
   "cell_type": "code",
   "execution_count": 8,
   "metadata": {},
   "outputs": [
    {
     "name": "stdout",
     "output_type": "stream",
     "text": [
      "Факториал числа 6 равен 720.\n"
     ]
    }
   ],
   "source": [
    "number = int(input(\"Введите число для вычисления факториала: \"))\n",
    "factorial = 1\n",
    "\n",
    "for i in range(1, number + 1):\n",
    "    factorial *= i\n",
    "\n",
    "print(f\"Факториал числа {number} равен {factorial}.\")"
   ]
  }
 ],
 "metadata": {
  "kernelspec": {
   "display_name": "Python 3",
   "language": "python",
   "name": "python3"
  },
  "language_info": {
   "codemirror_mode": {
    "name": "ipython",
    "version": 3
   },
   "file_extension": ".py",
   "mimetype": "text/x-python",
   "name": "python",
   "nbconvert_exporter": "python",
   "pygments_lexer": "ipython3",
   "version": "3.11.3"
  }
 },
 "nbformat": 4,
 "nbformat_minor": 2
}
