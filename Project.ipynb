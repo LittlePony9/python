{
 "cells": [
  {
   "cell_type": "code",
   "execution_count": 1,
   "metadata": {},
   "outputs": [
    {
     "name": "stdout",
     "output_type": "stream",
     "text": [
      "Hello world!\n"
     ]
    }
   ],
   "source": [
    "print('Hello world!')"
   ]
  },
  {
   "cell_type": "markdown",
   "metadata": {},
   "source": [
    "Python - интерпретируемый язык программирования. Построчно принимает команды и сразу выполняет их. \n",
    "Преимущества: легко заметить ошибки. Недостатки: медленные.\n",
    "Типы интерпретаторов:\n",
    "* простой (JS)\n",
    "* компилирующий (Python)\n",
    "\n",
    "Python - язык программирования со строгая динамическая типизация. \n",
    "Строгая: Язык не производит неявные преобразования типов. Динамическая: типы объектов определяются в процессе исполнения программы.\n",
    "\n",
    "Типы данных:\n",
    "- Изменяемые\n",
    "- Неизменяемые. Python не перезаписывает объект, а создает новый объект с таким же именем."
   ]
  },
  {
   "cell_type": "code",
   "execution_count": null,
   "metadata": {},
   "outputs": [],
   "source": [
    "int_obj = 10 #неизменяемый тип данных\n",
    "print(id(int_obj))\n",
    "int_obj += 5\n",
    "print(id(int_obj))"
   ]
  },
  {
   "cell_type": "markdown",
   "metadata": {},
   "source": [
    "Типы данных:\n",
    "- Числа (целые *int*, с плавающей точкой *float*, комплексные *complex*)\n",
    "- Строки - последовательности символов\n",
    "- Списки - упорядоченная [коллекция объектов]\n",
    "- Кортежи - (неизменяемые списки)\n",
    "- Словарь - неупорядоченная {коллекция пар \"ключ - значение\"}.\n",
    "- Файлы\n",
    "- Булев "
   ]
  },
  {
   "cell_type": "code",
   "execution_count": null,
   "metadata": {},
   "outputs": [],
   "source": [
    "data = input('Insert your data')\n",
    "print(type(data))\n",
    "print(data.isdigit())#проверить, является ли числом"
   ]
  },
  {
   "cell_type": "markdown",
   "metadata": {},
   "source": []
  },
  {
   "cell_type": "markdown",
   "metadata": {},
   "source": [
    "***Урок 18.09.2024***\n",
    "=================\n",
    "\n",
    "PEP8 - документ с правилами форматирования для Python\n",
    "**Операторы**\n",
    "Оператор - символ языка программирования, который оперирует значениями."
   ]
  },
  {
   "cell_type": "code",
   "execution_count": 6,
   "metadata": {},
   "outputs": [
    {
     "name": "stdout",
     "output_type": "stream",
     "text": [
      "Academy\n",
      "AcadAcadAcad\n"
     ]
    }
   ],
   "source": [
    "a = \"Acad\"\n",
    "b = \"emy\"\n",
    "print(a + b)\n",
    "print(a * 3)"
   ]
  },
  {
   "cell_type": "code",
   "execution_count": 10,
   "metadata": {},
   "outputs": [
    {
     "name": "stdout",
     "output_type": "stream",
     "text": [
      "[1, 5, 6, 8, 9, 312]\n",
      "None\n",
      "[312, 9, 8, 6, 5, 1]\n"
     ]
    }
   ],
   "source": [
    "list = [1, 5, 8, 9, 6, 312]\n",
    "print(sorted(list))\n",
    "print(list.sort(reverse=True))#между реверс и тру нет пробела\n",
    "print(list)"
   ]
  },
  {
   "cell_type": "markdown",
   "metadata": {},
   "source": [
    "Операторы арифметических операций\n",
    "+\n",
    "-\n",
    "* \n",
    "/ \n",
    "// \n",
    "% \n",
    "**"
   ]
  },
  {
   "cell_type": "code",
   "execution_count": 19,
   "metadata": {},
   "outputs": [
    {
     "name": "stdout",
     "output_type": "stream",
     "text": [
      "103\n",
      "2\n",
      "11\n"
     ]
    },
    {
     "data": {
      "text/plain": [
       "'\\nТут мы можем писать комментарии\\n'"
      ]
     },
     "execution_count": 19,
     "metadata": {},
     "output_type": "execute_result"
    }
   ],
   "source": [
    "a = 1\n",
    "b = 11\n",
    "c = 1135\n",
    "\n",
    "print (c // b) #оператор целочисленного деления\n",
    "print (c % b) #остаток от деления\n",
    "print(b ** a) #возведение в степень. аналог b ^ c\n",
    "\n",
    "'''\n",
    "Тут мы можем писать многострочные комментарии\n",
    "'''"
   ]
  },
  {
   "cell_type": "code",
   "execution_count": 24,
   "metadata": {},
   "outputs": [
    {
     "name": "stdout",
     "output_type": "stream",
     "text": [
      "Added 2 to your number:  16.0\n",
      "Added 2 to your number: 16.0\n"
     ]
    }
   ],
   "source": [
    "number = float(input(\"Insert your number\"))\n",
    "number += 2\n",
    "\n",
    "print(\"Added 2 to your number: \", number)\n",
    "print(f'Added 2 to your number: {number}') #f-строка"
   ]
  },
  {
   "cell_type": "code",
   "execution_count": 34,
   "metadata": {},
   "outputs": [
    {
     "name": "stdout",
     "output_type": "stream",
     "text": [
      "1\n",
      "2\n",
      "3\n",
      "4\n",
      "5\n",
      "6\n"
     ]
    }
   ],
   "source": [
    "#Надо решить потом, не поняла, как решить через цикл\n",
    "\n",
    "number = input('Введите целое шестизначное число:')\n",
    "first_part = number[0:3]\n",
    "second_part = number[3:]\n",
    "i = 0\n",
    "\n",
    "while (i <= 5):\n",
    "    sliced = number[i]\n",
    "    print(sliced)\n",
    "    i += 1\n"
   ]
  },
  {
   "cell_type": "code",
   "execution_count": 36,
   "metadata": {},
   "outputs": [
    {
     "name": "stdout",
     "output_type": "stream",
     "text": [
      "У вас счастливое число!\n"
     ]
    }
   ],
   "source": [
    "number = input('Введите целое шестизначное число:')\n",
    "first = int(number[0])\n",
    "second = int(number[1])\n",
    "third = int(number[2])\n",
    "fourth = int(number[3])\n",
    "fifth = int(number[4])\n",
    "sixth = int(number[5])\n",
    "\n",
    "first_sum = first + second + third\n",
    "second_sum = fourth + fifth + sixth\n",
    "\n",
    "if first_sum == second_sum:\n",
    "    print('У вас счастливое число!')\n",
    "elif first_sum > second_sum:\n",
    "    print('Первая часть больше')\n",
    "else:\n",
    "    print('Число несчастливое!')"
   ]
  },
  {
   "cell_type": "markdown",
   "metadata": {},
   "source": [
    "https://tproger.ru/articles/python-roadmap #роадмап для питон-программиста"
   ]
  },
  {
   "cell_type": "code",
   "execution_count": 40,
   "metadata": {},
   "outputs": [
    {
     "name": "stdout",
     "output_type": "stream",
     "text": [
      "1\n",
      "1\n",
      "0\n",
      "True\n",
      "False\n",
      "True\n",
      "False\n"
     ]
    }
   ],
   "source": [
    "a = True\n",
    "b = False\n",
    "print(a + b)\n",
    "print(a - b)\n",
    "print(a * b)\n",
    "print(a > b)\n",
    "print(a < b)\n",
    "print(a | b) #логическое или, хотя бы один Т => оба Т, дизъюнкция | or\n",
    "print(a & b) #логическое и, оба Т => Т, конъюнкция | and\n"
   ]
  },
  {
   "cell_type": "markdown",
   "metadata": {},
   "source": [
    "\\ #перенос строки в коде. чтобы все было красиво"
   ]
  },
  {
   "cell_type": "code",
   "execution_count": 43,
   "metadata": {},
   "outputs": [
    {
     "name": "stdout",
     "output_type": "stream",
     "text": [
      "Number -20 is even\n"
     ]
    }
   ],
   "source": [
    "number = int(input(\"Insert a number:\"))\n",
    "if number % 2 == 0:\n",
    "    print(f'Number {number} is even')\n",
    "else:\n",
    "    print (f'Number {number} is odd')"
   ]
  },
  {
   "cell_type": "code",
   "execution_count": 44,
   "metadata": {},
   "outputs": [
    {
     "name": "stdout",
     "output_type": "stream",
     "text": [
      "Number 49 is multiple 7\n"
     ]
    }
   ],
   "source": [
    "number = int(input(\"Insert a number:\"))\n",
    "if number % 7 == 0:\n",
    "    print(f'Number {number} is multiple 7')\n",
    "else:\n",
    "    print (f\"Number {number} isn't multiple 7\")"
   ]
  },
  {
   "cell_type": "markdown",
   "metadata": {},
   "source": [
    "Lesson (23rd of September 2024)"
   ]
  },
  {
   "cell_type": "markdown",
   "metadata": {},
   "source": [
    "Исключения - ошибки, возникающие во время выполнения программы.\n",
    "Некоторые типы исключений:\n",
    "* BaseException - базовый тип\n",
    "    - ArithmeticError\n",
    "    - OverflowError - результат арифметической операции слишком велик для отображения\n",
    "\n",
    "* ZeroDivisionError - деление на ноль"
   ]
  },
  {
   "cell_type": "code",
   "execution_count": 1,
   "metadata": {},
   "outputs": [
    {
     "ename": "ZeroDivisionError",
     "evalue": "division by zero",
     "output_type": "error",
     "traceback": [
      "\u001b[1;31m---------------------------------------------------------------------------\u001b[0m",
      "\u001b[1;31mZeroDivisionError\u001b[0m                         Traceback (most recent call last)",
      "\u001b[1;32mc:\\Users\\279015609\\python\\Project.ipynb Cell 22\u001b[0m line \u001b[0;36m1\n\u001b[1;32m----> <a href='vscode-notebook-cell:/c%3A/Users/279015609/python/Project.ipynb#X31sZmlsZQ%3D%3D?line=0'>1</a>\u001b[0m \u001b[39m1\u001b[39;49m\u001b[39m/\u001b[39;49m\u001b[39m0\u001b[39;49m\n",
      "\u001b[1;31mZeroDivisionError\u001b[0m: division by zero"
     ]
    }
   ],
   "source": [
    "1/0"
   ]
  },
  {
   "cell_type": "markdown",
   "metadata": {},
   "source": [
    "\n",
    "ImportError - импортировать модель или его атрибут не удалось. В современных версиях ModuleNotFoundError.\n",
    "LookupError - некорректный индекс или ключ. В кортеже или списке пытаемся обратиться к элементу, которого нет.\n",
    "    - IndexError  \n",
    "    - KeyError\n"
   ]
  },
  {
   "cell_type": "code",
   "execution_count": 2,
   "metadata": {},
   "outputs": [
    {
     "ename": "IndexError",
     "evalue": "list index out of range",
     "output_type": "error",
     "traceback": [
      "\u001b[1;31m---------------------------------------------------------------------------\u001b[0m",
      "\u001b[1;31mIndexError\u001b[0m                                Traceback (most recent call last)",
      "\u001b[1;32mc:\\Users\\279015609\\python\\Project.ipynb Cell 24\u001b[0m line \u001b[0;36m2\n\u001b[0;32m      <a href='vscode-notebook-cell:/c%3A/Users/279015609/python/Project.ipynb#X33sZmlsZQ%3D%3D?line=0'>1</a>\u001b[0m a \u001b[39m=\u001b[39m [\u001b[39m1\u001b[39m, \u001b[39m1\u001b[39m]\n\u001b[1;32m----> <a href='vscode-notebook-cell:/c%3A/Users/279015609/python/Project.ipynb#X33sZmlsZQ%3D%3D?line=1'>2</a>\u001b[0m \u001b[39mprint\u001b[39m(a[\u001b[39m5\u001b[39;49m])\n",
      "\u001b[1;31mIndexError\u001b[0m: list index out of range"
     ]
    }
   ],
   "source": [
    "a = [1, 1]\n",
    "print(a[5])"
   ]
  },
  {
   "cell_type": "code",
   "execution_count": 3,
   "metadata": {},
   "outputs": [
    {
     "ename": "KeyError",
     "evalue": "'age'",
     "output_type": "error",
     "traceback": [
      "\u001b[1;31m---------------------------------------------------------------------------\u001b[0m",
      "\u001b[1;31mKeyError\u001b[0m                                  Traceback (most recent call last)",
      "\u001b[1;32mc:\\Users\\279015609\\python\\Project.ipynb Cell 25\u001b[0m line \u001b[0;36m2\n\u001b[0;32m      <a href='vscode-notebook-cell:/c%3A/Users/279015609/python/Project.ipynb#X34sZmlsZQ%3D%3D?line=0'>1</a>\u001b[0m a \u001b[39m=\u001b[39m {\u001b[39m\"\u001b[39m\u001b[39mname\u001b[39m\u001b[39m\"\u001b[39m: \u001b[39m\"\u001b[39m\u001b[39mIrina\u001b[39m\u001b[39m\"\u001b[39m}\n\u001b[1;32m----> <a href='vscode-notebook-cell:/c%3A/Users/279015609/python/Project.ipynb#X34sZmlsZQ%3D%3D?line=1'>2</a>\u001b[0m \u001b[39mprint\u001b[39m(a[\u001b[39m\"\u001b[39;49m\u001b[39mage\u001b[39;49m\u001b[39m\"\u001b[39;49m])\n",
      "\u001b[1;31mKeyError\u001b[0m: 'age'"
     ]
    }
   ],
   "source": [
    "a = {\"name\": \"Irina\"}\n",
    "print(a[\"age\"])"
   ]
  },
  {
   "cell_type": "markdown",
   "metadata": {},
   "source": [
    "NameError - не найдена переменная с таким именем"
   ]
  },
  {
   "cell_type": "code",
   "execution_count": 4,
   "metadata": {},
   "outputs": [
    {
     "ename": "NameError",
     "evalue": "name 'b' is not defined",
     "output_type": "error",
     "traceback": [
      "\u001b[1;31m---------------------------------------------------------------------------\u001b[0m",
      "\u001b[1;31mNameError\u001b[0m                                 Traceback (most recent call last)",
      "\u001b[1;32mc:\\Users\\279015609\\python\\Project.ipynb Cell 27\u001b[0m line \u001b[0;36m1\n\u001b[1;32m----> <a href='vscode-notebook-cell:/c%3A/Users/279015609/python/Project.ipynb#X41sZmlsZQ%3D%3D?line=0'>1</a>\u001b[0m b\n",
      "\u001b[1;31mNameError\u001b[0m: name 'b' is not defined"
     ]
    }
   ],
   "source": [
    "b"
   ]
  },
  {
   "cell_type": "markdown",
   "metadata": {},
   "source": [
    "RuntimeError - исключение не попадает ни в какую из категорий выше\n",
    "SyntaxError\n",
    "    - IndentationError - неправильные отступы\n",
    "TypeError - операция применена к объекту несуществующего типа\n"
   ]
  },
  {
   "cell_type": "code",
   "execution_count": 5,
   "metadata": {},
   "outputs": [
    {
     "ename": "TypeError",
     "evalue": "unsupported operand type(s) for *: 'dict' and 'int'",
     "output_type": "error",
     "traceback": [
      "\u001b[1;31m---------------------------------------------------------------------------\u001b[0m",
      "\u001b[1;31mTypeError\u001b[0m                                 Traceback (most recent call last)",
      "\u001b[1;32mc:\\Users\\279015609\\python\\Project.ipynb Cell 29\u001b[0m line \u001b[0;36m1\n\u001b[1;32m----> <a href='vscode-notebook-cell:/c%3A/Users/279015609/python/Project.ipynb#X44sZmlsZQ%3D%3D?line=0'>1</a>\u001b[0m a \u001b[39m*\u001b[39;49m \u001b[39m10\u001b[39;49m\n",
      "\u001b[1;31mTypeError\u001b[0m: unsupported operand type(s) for *: 'dict' and 'int'"
     ]
    }
   ],
   "source": [
    "a * 10"
   ]
  },
  {
   "cell_type": "markdown",
   "metadata": {},
   "source": [
    "Перехват исключений\n",
    "try ... except\n",
    "try - блок, где мы просим сделать что-то\n",
    "except - что нужно сделать, если есть ошибка"
   ]
  },
  {
   "cell_type": "code",
   "execution_count": 7,
   "metadata": {},
   "outputs": [
    {
     "name": "stdout",
     "output_type": "stream",
     "text": [
      "Error\n"
     ]
    }
   ],
   "source": [
    "try:\n",
    "    a * 10\n",
    "except TypeError: print(\"Error\")\n",
    "except ZeroDivisionError: print(\"Do not divide to zero\")\n",
    "finally: print(\"The program is finished\")"
   ]
  },
  {
   "cell_type": "code",
   "execution_count": 15,
   "metadata": {},
   "outputs": [
    {
     "name": "stdout",
     "output_type": "stream",
     "text": [
      "You can't have -5 apples\n"
     ]
    }
   ],
   "source": [
    "try:\n",
    "    apples = int(input())\n",
    "    if apples < 0:\n",
    "        raise Exception\n",
    "    print (f'You have {apples} apples')\\\n",
    "    \n",
    "    # if type(apples) != 'int': - избыточный код, не несет никакой функциональной нагрузки, тип не инт никогда не произойдет\n",
    "    #     raise Exception\n",
    "\n",
    "except Exception:\n",
    "    print(f\"You can't have {apples} apples\")"
   ]
  },
  {
   "cell_type": "code",
   "execution_count": 19,
   "metadata": {},
   "outputs": [
    {
     "name": "stdout",
     "output_type": "stream",
     "text": [
      "invalid literal for int() with base 10: 'sdff'\n"
     ]
    }
   ],
   "source": [
    "try:\n",
    "    b = int(input())\n",
    "except Exception as ex:\n",
    "    print(ex)"
   ]
  }
 ],
 "metadata": {
  "kernelspec": {
   "display_name": "Python 3",
   "language": "python",
   "name": "python3"
  },
  "language_info": {
   "codemirror_mode": {
    "name": "ipython",
    "version": 3
   },
   "file_extension": ".py",
   "mimetype": "text/x-python",
   "name": "python",
   "nbconvert_exporter": "python",
   "pygments_lexer": "ipython3",
   "version": "3.12.6"
  }
 },
 "nbformat": 4,
 "nbformat_minor": 2
}
