{
 "cells": [
  {
   "cell_type": "markdown",
   "metadata": {},
   "source": [
    "Задание 2\n",
    "Есть четыре списка целых. Необходимо объединить в пятом списке только те элементы, которые уникальны для каждого списка. Полученный результат в зависимости от выбора пользователя отсортировать по убыванию или возрастанию. Найти значение, введенное пользователем,\n",
    "с использованием бинарного поиска."
   ]
  },
  {
   "cell_type": "code",
   "execution_count": 46,
   "metadata": {},
   "outputs": [
    {
     "name": "stdout",
     "output_type": "stream",
     "text": [
      "Список 1: [-10, 8, 7, -3, -9]\n",
      "Список 2: [-1, -7, -3, 7, 5]\n",
      "Список 3: [-2, 0, 7, -9, 8]\n",
      "Список 4: [-1, 1, 7, -9, 9]\n",
      "Список уникальных значений: [0, 1, 5, 9, -10, -7, -2]\n",
      "Список отсортирован по убыванию: [9, 5, 1, 0, -2, -7, -10]\n",
      "Вы искали число -10. Вот его индекс: 6\n"
     ]
    }
   ],
   "source": [
    "from random import randint\n",
    "from collections import Counter\n",
    "\n",
    "ls1 = [randint(-10, 10) for _ in range(5)]\n",
    "ls2 = [randint(-10, 10) for _ in range(5)]\n",
    "ls3 = [randint(-10, 10) for _ in range(5)]\n",
    "ls4 = [randint(-10, 10) for _ in range(5)]\n",
    "print(f'Список 1: {ls1}')\n",
    "print(f'Список 2: {ls2}')\n",
    "print(f'Список 3: {ls3}')\n",
    "print(f'Список 4: {ls4}')\n",
    "\n",
    "all_el = ls1 + ls2 + ls3 + ls4\n",
    "el_counts = Counter(all_el)\n",
    "unique_el = [x for x in all_el if el_counts[x] == 1]\n",
    "result = list(set(unique_el))\n",
    "print(f'Список уникальных значений: {result}')\n",
    "\n",
    "desc_or_asc = input(\"Как отсортировать список: по убыванию или по возрастанию?\")\n",
    "if desc_or_asc == \"по возрастанию\":\n",
    "    n = len(result)\n",
    "    for i in range(n):\n",
    "        for j in range(0, n - i - 1):\n",
    "            if result[j] > result[j + 1]:\n",
    "                result[j], result[j + 1] = result[j + 1], result[j]\n",
    "    print(f'Список отсортирован по возрастанию: {result}')\n",
    "elif desc_or_asc == \"по убыванию\":\n",
    "    n = len(result)\n",
    "    for i in range(n):\n",
    "        for j in range(0, n - i - 1):\n",
    "            if result[j] < result[j + 1]:\n",
    "                result[j], result[j + 1] = result[j + 1], result[j]\n",
    "    print(f'Список отсортирован по убыванию: {result}')\n",
    "else:\n",
    "    print(\"Кажется, такого значения нет.\")\n",
    "\n",
    "value = int(input(\"Какое число от -10 до 10 вы ищете?\"))\n",
    "if desc_or_asc == \"по возрастанию\":\n",
    "    def binary_search(arr, target):\n",
    "        left, right = 0, len(arr) - 1\n",
    "        while left <= right:\n",
    "            mid = (left + right) // 2\n",
    "            if arr[mid] == target:\n",
    "                return mid\n",
    "            elif arr[mid] < target:\n",
    "                left = mid + 1\n",
    "            else:\n",
    "                right = mid - 1\n",
    "        return -1\n",
    "    searched_index = binary_search(result, value)\n",
    "else:\n",
    "    def binary_search_desc(arr, target):\n",
    "        left, right = 0, len(arr) - 1\n",
    "        while left <= right:\n",
    "            mid = (left + right) // 2\n",
    "            if arr[mid] == target:\n",
    "                return mid\n",
    "            elif arr[mid] > target:\n",
    "                left = mid + 1\n",
    "            else:\n",
    "                right = mid - 1\n",
    "        return -1\n",
    "    searched_index = binary_search_desc(result, value)\n",
    "\n",
    "if searched_index != -1:\n",
    "    print(f'Вы искали число {value}. Вот его индекс: {searched_index}')\n",
    "else:\n",
    "    print(f'Число {value} не найдено.')\n",
    "\n",
    "\n",
    "\n",
    "\n",
    "\n",
    "\n",
    "\n"
   ]
  }
 ],
 "metadata": {
  "kernelspec": {
   "display_name": "Python 3",
   "language": "python",
   "name": "python3"
  },
  "language_info": {
   "codemirror_mode": {
    "name": "ipython",
    "version": 3
   },
   "file_extension": ".py",
   "mimetype": "text/x-python",
   "name": "python",
   "nbconvert_exporter": "python",
   "pygments_lexer": "ipython3",
   "version": "3.11.3"
  }
 },
 "nbformat": 4,
 "nbformat_minor": 2
}
