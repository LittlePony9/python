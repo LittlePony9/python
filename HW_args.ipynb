{
 "cells": [
  {
   "cell_type": "markdown",
   "metadata": {},
   "source": [
    "Задание:\n",
    "\n",
    "Напишите функцию calculate_average, которая принимает любое количество числовых аргументов и возвращает среднее значение. Используйте *args для обработки произвольного количества аргументов. Ваша функция не должна ломаться. То есть если её вызвать без аргументов, она должна выдать что-то вроде «Вы забыли ввести числа для расчета среднего значения».\n",
    "\n",
    "Пример использования:\n",
    "\n",
    "average1 = calculate_average(1, 2, 3, 4, 5) \n",
    "print(average1) # Должно вернуть 3\n",
    "\n",
    "average2 = calculate_average(100, 20, 354) \n",
    "print(average2) # Должно вернуть 158"
   ]
  },
  {
   "cell_type": "code",
   "execution_count": 1,
   "metadata": {},
   "outputs": [
    {
     "name": "stdout",
     "output_type": "stream",
     "text": [
      "3.0\n",
      "158.0\n"
     ]
    }
   ],
   "source": [
    "def calculate_average(*args):\n",
    "    if not args:\n",
    "        return \"Вы забыли ввести числа для расчета среднего значения\"\n",
    "    return sum(args) / len(args)\n",
    "\n",
    "average1 = calculate_average(1, 2, 3, 4, 5) \n",
    "print(average1)\n",
    "\n",
    "average2 = calculate_average(100, 20, 354) \n",
    "print(average2)\n"
   ]
  }
 ],
 "metadata": {
  "kernelspec": {
   "display_name": "Python 3",
   "language": "python",
   "name": "python3"
  },
  "language_info": {
   "codemirror_mode": {
    "name": "ipython",
    "version": 3
   },
   "file_extension": ".py",
   "mimetype": "text/x-python",
   "name": "python",
   "nbconvert_exporter": "python",
   "pygments_lexer": "ipython3",
   "version": "3.11.3"
  }
 },
 "nbformat": 4,
 "nbformat_minor": 2
}
