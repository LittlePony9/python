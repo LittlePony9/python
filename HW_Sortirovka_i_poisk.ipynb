{
 "cells": [
  {
   "cell_type": "markdown",
   "metadata": {},
   "source": [
    "Задание 1\n",
    "Есть четыре списка целых. Необходимо их объединить\n",
    "в пятом списке. Полученный результат в зависимости от\n",
    "выбора пользователя отсортировать по убыванию или\n",
    "возрастанию. Найти значение, введенное пользователем,\n",
    "с использованием линейного поиска."
   ]
  },
  {
   "cell_type": "code",
   "execution_count": 5,
   "metadata": {},
   "outputs": [
    {
     "name": "stdout",
     "output_type": "stream",
     "text": [
      "Объединённый список: [12, 5, 7, 19, 34, 1, 23, 8, 9, 0, 3, 15, 56, 43, 11, 27]\n",
      "Отсортированный список: [56, 43, 34, 27, 23, 19, 15, 12, 11, 9, 8, 7, 5, 3, 1, 0]\n",
      "Число 23 найдено на индексе 4.\n"
     ]
    }
   ],
   "source": [
    "def linear_search(lst, target):\n",
    "        for index, value in enumerate(lst):\n",
    "            if value == target:\n",
    "                return index\n",
    "        return -1  \n",
    "\n",
    "def main():\n",
    "\n",
    "    list1 = [12, 5, 7, 19]\n",
    "    list2 = [34, 1, 23, 8]\n",
    "    list3 = [9, 0, 3, 15]\n",
    "    list4 = [56, 43, 11, 27]\n",
    "\n",
    "\n",
    "    merged_list = list1 + list2 + list3 + list4\n",
    "\n",
    "    print(\"Объединённый список:\", merged_list)\n",
    "\n",
    "    sort_order = input(\"Введите 'возрастание' для сортировки по возрастанию или 'убывание' для сортировки по убыванию: \").lower()\n",
    "\n",
    "    if sort_order == \"возрастание\":\n",
    "        merged_list.sort() \n",
    "    elif sort_order == \"убывание\":\n",
    "        merged_list.sort(reverse=True) \n",
    "    else:\n",
    "        print(\"Некорректный выбор! Используется сортировка по возрастанию.\")\n",
    "        merged_list.sort()\n",
    "\n",
    "\n",
    "    print(\"Отсортированный список:\", merged_list)\n",
    "\n",
    "    target = int(input(\"Введите число для поиска: \"))\n",
    "\n",
    "    result = linear_search(merged_list, target)\n",
    "\n",
    "    if result != -1:\n",
    "        print(f\"Число {target} найдено на индексе {result}.\")\n",
    "    else:\n",
    "        print(f\"Число {target} не найдено в списке.\")\n",
    "\n",
    "if __name__ == \"__main__\":\n",
    "    main()\n",
    "\n"
   ]
  }
 ],
 "metadata": {
  "kernelspec": {
   "display_name": "Python 3",
   "language": "python",
   "name": "python3"
  },
  "language_info": {
   "codemirror_mode": {
    "name": "ipython",
    "version": 3
   },
   "file_extension": ".py",
   "mimetype": "text/x-python",
   "name": "python",
   "nbconvert_exporter": "python",
   "pygments_lexer": "ipython3",
   "version": "3.11.3"
  }
 },
 "nbformat": 4,
 "nbformat_minor": 2
}
