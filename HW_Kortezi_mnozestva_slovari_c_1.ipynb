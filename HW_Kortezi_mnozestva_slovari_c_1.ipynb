{
 "cells": [
  {
   "cell_type": "markdown",
   "metadata": {},
   "source": [
    "Задание 1\n",
    "Есть три кортежа целых чисел необходимо найти элементы, которые есть во всех кортежах."
   ]
  },
  {
   "cell_type": "code",
   "execution_count": 43,
   "metadata": {},
   "outputs": [
    {
     "name": "stdout",
     "output_type": "stream",
     "text": [
      "Кортеж 1: (7, 7, 4, 4, 0)\n",
      "Кортеж 2: (1, 4, 0, 9, 7)\n",
      "Кортеж 3: (5, 7, 7, 0, 4)\n",
      "Элементы, которые есть во всех кортежах: [7, 7, 7, 7, 4, 4, 0]\n"
     ]
    }
   ],
   "source": [
    "from random import randint\n",
    "\n",
    "a = tuple(randint(0, 10) for _ in range(5))\n",
    "b = tuple(randint(0, 10) for _ in range(5))\n",
    "c = tuple(randint(0, 10) for _ in range(5))\n",
    "\n",
    "print(f'Кортеж 1: {a}')\n",
    "print(f'Кортеж 2: {b}')\n",
    "print(f'Кортеж 3: {c}')\n",
    "\n",
    "ls = []\n",
    "\n",
    "for i in a:\n",
    "    for j in b:\n",
    "        for k in c:\n",
    "            if i == j == k:\n",
    "                ls.append(i)\n",
    "\n",
    "print(f'Элементы, которые есть во всех кортежах: {ls}')"
   ]
  },
  {
   "cell_type": "markdown",
   "metadata": {},
   "source": [
    "Задание 2\n",
    "Есть три кортежа целых чисел необходимо найти элементы, которые уникальны для каждого списка."
   ]
  },
  {
   "cell_type": "code",
   "execution_count": 33,
   "metadata": {},
   "outputs": [
    {
     "name": "stdout",
     "output_type": "stream",
     "text": [
      "Кортеж 1: (7, 6, 5, 5, 7)\n",
      "Кортеж 2: (7, 8, 2, 3, 8)\n",
      "Кортеж 3: (8, 9, 4, 4, 9)\n",
      "Уникальные элементы: {2, 3, 4, 5, 6, 9}\n"
     ]
    }
   ],
   "source": [
    "a = tuple(randint(0, 10) for _ in range(5))\n",
    "b = tuple(randint(0, 10) for _ in range(5))\n",
    "c = tuple(randint(0, 10) for _ in range(5))\n",
    "\n",
    "print(f'Кортеж 1: {a}')\n",
    "print(f'Кортеж 2: {b}')\n",
    "print(f'Кортеж 3: {c}')\n",
    "\n",
    "set1 = set(a)\n",
    "set2 = set(b)\n",
    "set3 = set(c)\n",
    "\n",
    "unique_el = (set1 ^ set2 ^ set3)- (set1 & set2 & set3)\n",
    "\n",
    "\n",
    "print(f'Уникальные элементы: {unique_el}')"
   ]
  },
  {
   "cell_type": "markdown",
   "metadata": {},
   "source": [
    "Задание 3\n",
    "Есть три кортежа целых чисел необходимо найти элементы, которые есть в каждом из кортежей и находятся\n",
    "в каждом из кортежей на той же позиции."
   ]
  },
  {
   "cell_type": "code",
   "execution_count": 66,
   "metadata": {},
   "outputs": [
    {
     "name": "stdout",
     "output_type": "stream",
     "text": [
      "Кортеж 1: (2, 4, 4, 5)\n",
      "Кортеж 2: (2, 33, 5, 5)\n",
      "Кортеж 3: (2, 11, 78, 5)\n",
      "[2, 5]\n"
     ]
    }
   ],
   "source": [
    "a = (2, 4, 4, 5)\n",
    "b = (2, 33, 5, 5)\n",
    "c = (2, 11, 78, 5)\n",
    "\n",
    "print(f'Кортеж 1: {a}')\n",
    "print(f'Кортеж 2: {b}')\n",
    "print(f'Кортеж 3: {c}')\n",
    "\n",
    "result = [x for x, y, z in zip(a, b, c) if x == y == z]\n",
    "\n",
    "print(result)"
   ]
  }
 ],
 "metadata": {
  "kernelspec": {
   "display_name": "Python 3",
   "language": "python",
   "name": "python3"
  },
  "language_info": {
   "codemirror_mode": {
    "name": "ipython",
    "version": 3
   },
   "file_extension": ".py",
   "mimetype": "text/x-python",
   "name": "python",
   "nbconvert_exporter": "python",
   "pygments_lexer": "ipython3",
   "version": "3.11.3"
  }
 },
 "nbformat": 4,
 "nbformat_minor": 2
}
