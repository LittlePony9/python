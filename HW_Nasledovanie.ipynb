{
 "cells": [
  {
   "cell_type": "markdown",
   "metadata": {},
   "source": [
    "Задание 1: Простое наследование\n",
    "Создайте базовый класс Vehicle со\n",
    "следующими атрибутами и методами:\n",
    "Атрибут brand (марка транспортного\n",
    "средства).\n",
    "Атрибут speed (скорость транспортного\n",
    "средства).\n",
    "Метод move(), который выводит на экран:\n",
    "\"Vehicle is moving at [speed] km/h\".\n",
    "Создайте подкласс Car, который наследует от\n",
    "класса Vehicle:\n",
    "Переопределите метод move() так, чтобы он\n",
    "выводил на экран: \"Car is driving at [speed]\n",
    "km/h\".\n",
    "Добавьте метод honk(), который выводит на\n",
    "экран: \"Car honks!\".\n",
    "Создайте подкласс Bicycle, который\n",
    "наследует от класса Vehicle:\n",
    "Переопределите метод move() так, чтобы он\n",
    "выводил на экран: \"Bicycle is riding at\n",
    "[speed] km/h\".\n",
    "Добавьте метод ring_bell(), который выводит\n",
    "на экран: \"Bicycle bell rings!\".\n",
    "Создайте объекты каждого класса и\n",
    "продемонстрируйте их работу:\n",
    "Создайте объект класса Vehicle с маркой\n",
    "\"Generic\" и скоростью 60.\n",
    "Создайте объект класса Car с маркой\n",
    "\"Toyota\" и скоростью 120.\n",
    "Создайте объект класса Bicycle с маркой\n",
    "\"Trek\" и скоростью 20.\n",
    "Вызовите методы move(), honk() (для Car) и\n",
    "ring_bell() (для Bicycle)."
   ]
  },
  {
   "cell_type": "code",
   "execution_count": 3,
   "metadata": {},
   "outputs": [
    {
     "name": "stdout",
     "output_type": "stream",
     "text": [
      "Vehicle is moving at 60 km/h.\n",
      "Car is driving at 120 km/h.\n",
      "Car honks!\n",
      "Bicycle is riding at 20 km/h.\n",
      "Bicycle bell rings!\n"
     ]
    }
   ],
   "source": [
    "class Vehicle:\n",
    "    def __init__(self, brand, speed):\n",
    "        self.brand = brand\n",
    "        self.speed = speed\n",
    "\n",
    "    def move(self):\n",
    "        print(f\"Vehicle is moving at {self.speed} km/h.\")\n",
    "\n",
    "class Car(Vehicle):\n",
    "    def move(self):\n",
    "        print(f\"Car is driving at {self.speed} km/h.\")\n",
    "\n",
    "    def honk(self):\n",
    "        print(\"Car honks!\")\n",
    "\n",
    "class Bicycle(Vehicle):\n",
    "    def move(self):\n",
    "        print(f\"Bicycle is riding at {self.speed} km/h.\")\n",
    "\n",
    "    def ring_bell(self):\n",
    "        print(\"Bicycle bell rings!\")\n",
    "\n",
    "\n",
    "vehicle = Vehicle(\"Generic\", 60)\n",
    "car = Car(\"Toyota\", 120)\n",
    "bicycle = Bicycle(\"Trek\", 20)\n",
    "\n",
    "vehicle.move() \n",
    "car.move()\n",
    "car.honk()\n",
    "bicycle.move()\n",
    "bicycle.ring_bell()\n"
   ]
  },
  {
   "cell_type": "markdown",
   "metadata": {},
   "source": [
    "Задание 2: Множественное наследование\n",
    "Создайте базовый класс Engine со\n",
    "следующими атрибутами и методами:\n",
    "Атрибут engine_type (тип двигателя,\n",
    "например,\n",
    "\"Petrol\"\n",
    ",\n",
    "\"Electric\").\n",
    "Метод start_engine(), который выводит на\n",
    "экран: \"Engine started: [engine_type]\".\n",
    "Создайте базовый класс Seats со\n",
    "следующими атрибутами и методами:\n",
    "Атрибут seat_count (количество мест).\n",
    "Метод adjust_seats(), который выводит на\n",
    "экран: \"Adjusting [seat_count] seats\".\n",
    "Создайте подкласс ElectricCar, который\n",
    "наследует от классов Car и Engine:\n",
    "Убедитесь, что конструктор класса ElectricCar\n",
    "принимает параметры для всех атрибутов\n",
    "(brand, speed, engine_type, seat_count).\n",
    "Переопределите метод move() так, чтобы он\n",
    "выводил на экран: \"Electric car is driving\n",
    "silently at [speed] km/h\".\n",
    "Добавьте метод charge(), который выводит на\n",
    "экран: \"Electric car is charging\".\n",
    "Создайте объект класса ElectricCar и\n",
    "продемонстрируйте его работу:\n",
    "Создайте объект с маркой \"Tesla\"\n",
    ", скоростью\n",
    "150, типом двигателя \"Electric\" и количеством\n",
    "мест 5.\n",
    "Вызовите методы move(), start_engine(),\n",
    "adjust_seats(), honk() и charge()."
   ]
  },
  {
   "cell_type": "code",
   "execution_count": 4,
   "metadata": {},
   "outputs": [
    {
     "name": "stdout",
     "output_type": "stream",
     "text": [
      "Electric car is driving silently at 150 km/h.\n",
      "Engine started: Electric.\n",
      "Adjusting 5 seats.\n",
      "Car honks!\n",
      "Electric car is charging.\n"
     ]
    }
   ],
   "source": [
    "class Engine:\n",
    "    def __init__(self, engine_type):\n",
    "        self.engine_type = engine_type\n",
    "\n",
    "    def start_engine(self):\n",
    "        print(f\"Engine started: {self.engine_type}.\")\n",
    "\n",
    "class Seats:\n",
    "    def __init__(self, seat_count):\n",
    "        self.seat_count = seat_count\n",
    "\n",
    "    def adjust_seats(self):\n",
    "        print(f\"Adjusting {self.seat_count} seats.\")\n",
    "\n",
    "class ElectricCar(Car, Engine, Seats):\n",
    "    def __init__(self, brand, speed, engine_type, seat_count):\n",
    "        Car.__init__(self, brand, speed)\n",
    "        Engine.__init__(self, engine_type)\n",
    "        Seats.__init__(self, seat_count)\n",
    "\n",
    "    def move(self):\n",
    "        print(f\"Electric car is driving silently at {self.speed} km/h.\")\n",
    "\n",
    "    def charge(self):\n",
    "        print(\"Electric car is charging.\")\n",
    "\n",
    "\n",
    "tesla = ElectricCar(\"Tesla\", 150, \"Electric\", 5)\n",
    "\n",
    "tesla.move()           \n",
    "tesla.start_engine()   \n",
    "tesla.adjust_seats()   \n",
    "tesla.honk()           \n",
    "tesla.charge()         "
   ]
  }
 ],
 "metadata": {
  "kernelspec": {
   "display_name": "Python 3",
   "language": "python",
   "name": "python3"
  },
  "language_info": {
   "codemirror_mode": {
    "name": "ipython",
    "version": 3
   },
   "file_extension": ".py",
   "mimetype": "text/x-python",
   "name": "python",
   "nbconvert_exporter": "python",
   "pygments_lexer": "ipython3",
   "version": "3.11.3"
  }
 },
 "nbformat": 4,
 "nbformat_minor": 2
}
