{
 "cells": [
  {
   "cell_type": "code",
   "execution_count": 1,
   "metadata": {},
   "outputs": [
    {
     "name": "stdout",
     "output_type": "stream",
     "text": [
      "Hello world!\n"
     ]
    }
   ],
   "source": [
    "print('Hello world!')"
   ]
  },
  {
   "cell_type": "markdown",
   "metadata": {},
   "source": [
    "Python - интерпретируемый язык программирования. Построчно принимает команды и сразу выполняет их. \n",
    "Преимущества: легко заметить ошибки. Недостатки: медленные.\n",
    "Типы интерпретаторов:\n",
    "* простой (JS)\n",
    "* компилирующий (Python)\n",
    "\n",
    "Python - язык программирования со строгая динамическая типизация. \n",
    "Строгая: Язык не производит неявные преобразования типов. Динамическая: типы объектов определяются в процессе исполнения программы.\n",
    "\n",
    "Типы данных:\n",
    "- Изменяемые\n",
    "- Неизменяемые. Python не перезаписывает объект, а создает новый объект с таким же именем."
   ]
  },
  {
   "cell_type": "code",
   "execution_count": null,
   "metadata": {},
   "outputs": [],
   "source": [
    "int_obj = 10 #неизменяемый тип данных\n",
    "print(id(int_obj))\n",
    "int_obj += 5\n",
    "print(id(int_obj))"
   ]
  },
  {
   "cell_type": "markdown",
   "metadata": {},
   "source": [
    "Типы данных:\n",
    "- Числа (целые *int*, с плавающей точкой *float*, комплексные *complex*)\n",
    "- Строки - последовательности символов\n",
    "- Списки - упорядоченная [коллекция объектов]\n",
    "- Кортежи - (неизменяемые списки)\n",
    "- Словарь - неупорядоченная {коллекция пар \"ключ - значение\"}.\n",
    "- Файлы\n",
    "- Булев "
   ]
  },
  {
   "cell_type": "code",
   "execution_count": null,
   "metadata": {},
   "outputs": [],
   "source": [
    "data = input('Insert your data')\n",
    "print(type(data))\n",
    "print(data.isdigit())#проверить, является ли числом"
   ]
  },
  {
   "cell_type": "markdown",
   "metadata": {},
   "source": []
  },
  {
   "cell_type": "markdown",
   "metadata": {},
   "source": [
    "***Урок 18.09.2024***\n",
    "=================\n",
    "\n",
    "PEP8 - документ с правилами форматирования для Python\n",
    "**Операторы**\n",
    "Оператор - символ языка программирования, который оперирует значениями."
   ]
  },
  {
   "cell_type": "code",
   "execution_count": 6,
   "metadata": {},
   "outputs": [
    {
     "name": "stdout",
     "output_type": "stream",
     "text": [
      "Academy\n",
      "AcadAcadAcad\n"
     ]
    }
   ],
   "source": [
    "a = \"Acad\"\n",
    "b = \"emy\"\n",
    "print(a + b)\n",
    "print(a * 3)"
   ]
  },
  {
   "cell_type": "code",
   "execution_count": 10,
   "metadata": {},
   "outputs": [
    {
     "name": "stdout",
     "output_type": "stream",
     "text": [
      "[1, 5, 6, 8, 9, 312]\n",
      "None\n",
      "[312, 9, 8, 6, 5, 1]\n"
     ]
    }
   ],
   "source": [
    "list = [1, 5, 8, 9, 6, 312]\n",
    "print(sorted(list))\n",
    "print(list.sort(reverse=True))#между реверс и тру нет пробела\n",
    "print(list)"
   ]
  },
  {
   "cell_type": "markdown",
   "metadata": {},
   "source": [
    "Операторы арифметических операций\n",
    "+\n",
    "-\n",
    "* \n",
    "/ \n",
    "// \n",
    "% \n",
    "**"
   ]
  },
  {
   "cell_type": "code",
   "execution_count": 19,
   "metadata": {},
   "outputs": [
    {
     "name": "stdout",
     "output_type": "stream",
     "text": [
      "103\n",
      "2\n",
      "11\n"
     ]
    },
    {
     "data": {
      "text/plain": [
       "'\\nТут мы можем писать комментарии\\n'"
      ]
     },
     "execution_count": 19,
     "metadata": {},
     "output_type": "execute_result"
    }
   ],
   "source": [
    "a = 1\n",
    "b = 11\n",
    "c = 1135\n",
    "\n",
    "print (c // b) #оператор целочисленного деления\n",
    "print (c % b) #остаток от деления\n",
    "print(b ** a) #возведение в степень. аналог b ^ c\n",
    "\n",
    "'''\n",
    "Тут мы можем писать многострочные комментарии\n",
    "'''"
   ]
  },
  {
   "cell_type": "code",
   "execution_count": 24,
   "metadata": {},
   "outputs": [
    {
     "name": "stdout",
     "output_type": "stream",
     "text": [
      "Added 2 to your number:  16.0\n",
      "Added 2 to your number: 16.0\n"
     ]
    }
   ],
   "source": [
    "number = float(input(\"Insert your number\"))\n",
    "number += 2\n",
    "\n",
    "print(\"Added 2 to your number: \", number)\n",
    "print(f'Added 2 to your number: {number}') #f-строка"
   ]
  },
  {
   "cell_type": "code",
   "execution_count": 34,
   "metadata": {},
   "outputs": [
    {
     "name": "stdout",
     "output_type": "stream",
     "text": [
      "1\n",
      "2\n",
      "3\n",
      "4\n",
      "5\n",
      "6\n"
     ]
    }
   ],
   "source": [
    "#Надо решить потом, не поняла, как решить через цикл\n",
    "\n",
    "number = input('Введите целое шестизначное число:')\n",
    "first_part = number[0:3]\n",
    "second_part = number[3:]\n",
    "i = 0\n",
    "\n",
    "while (i <= 5):\n",
    "    sliced = number[i]\n",
    "    print(sliced)\n",
    "    i += 1\n"
   ]
  },
  {
   "cell_type": "code",
   "execution_count": 36,
   "metadata": {},
   "outputs": [
    {
     "name": "stdout",
     "output_type": "stream",
     "text": [
      "У вас счастливое число!\n"
     ]
    }
   ],
   "source": [
    "number = input('Введите целое шестизначное число:')\n",
    "first = int(number[0])\n",
    "second = int(number[1])\n",
    "third = int(number[2])\n",
    "fourth = int(number[3])\n",
    "fifth = int(number[4])\n",
    "sixth = int(number[5])\n",
    "\n",
    "first_sum = first + second + third\n",
    "second_sum = fourth + fifth + sixth\n",
    "\n",
    "if first_sum == second_sum:\n",
    "    print('У вас счастливое число!')\n",
    "elif first_sum > second_sum:\n",
    "    print('Первая часть больше')\n",
    "else:\n",
    "    print('Число несчастливое!')"
   ]
  },
  {
   "cell_type": "markdown",
   "metadata": {},
   "source": [
    "https://tproger.ru/articles/python-roadmap #роадмап для питон-программиста"
   ]
  },
  {
   "cell_type": "code",
   "execution_count": 40,
   "metadata": {},
   "outputs": [
    {
     "name": "stdout",
     "output_type": "stream",
     "text": [
      "1\n",
      "1\n",
      "0\n",
      "True\n",
      "False\n",
      "True\n",
      "False\n"
     ]
    }
   ],
   "source": [
    "a = True\n",
    "b = False\n",
    "print(a + b)\n",
    "print(a - b)\n",
    "print(a * b)\n",
    "print(a > b)\n",
    "print(a < b)\n",
    "print(a | b) #логическое или, хотя бы один Т => оба Т, дизъюнкция | or\n",
    "print(a & b) #логическое и, оба Т => Т, конъюнкция | and\n"
   ]
  },
  {
   "cell_type": "markdown",
   "metadata": {},
   "source": [
    "\\ #перенос строки в коде. чтобы все было красиво"
   ]
  },
  {
   "cell_type": "code",
   "execution_count": 43,
   "metadata": {},
   "outputs": [
    {
     "name": "stdout",
     "output_type": "stream",
     "text": [
      "Number -20 is even\n"
     ]
    }
   ],
   "source": [
    "number = int(input(\"Insert a number:\"))\n",
    "if number % 2 == 0:\n",
    "    print(f'Number {number} is even')\n",
    "else:\n",
    "    print (f'Number {number} is odd')"
   ]
  },
  {
   "cell_type": "code",
   "execution_count": 44,
   "metadata": {},
   "outputs": [
    {
     "name": "stdout",
     "output_type": "stream",
     "text": [
      "Number 49 is multiple 7\n"
     ]
    }
   ],
   "source": [
    "number = int(input(\"Insert a number:\"))\n",
    "if number % 7 == 0:\n",
    "    print(f'Number {number} is multiple 7')\n",
    "else:\n",
    "    print (f\"Number {number} isn't multiple 7\")"
   ]
  },
  {
   "cell_type": "markdown",
   "metadata": {},
   "source": []
  }
 ],
 "metadata": {
  "kernelspec": {
   "display_name": "Python 3",
   "language": "python",
   "name": "python3"
  },
  "language_info": {
   "codemirror_mode": {
    "name": "ipython",
    "version": 3
   },
   "file_extension": ".py",
   "mimetype": "text/x-python",
   "name": "python",
   "nbconvert_exporter": "python",
   "pygments_lexer": "ipython3",
   "version": "3.12.6"
  }
 },
 "nbformat": 4,
 "nbformat_minor": 2
}
