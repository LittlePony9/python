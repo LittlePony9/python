{
 "cells": [
  {
   "cell_type": "markdown",
   "metadata": {},
   "source": [
    "Задание 1\n",
    "Дано два текстовых файла. Выяснить, совпадают ли\n",
    "их строки. Если нет, то вывести несовпадающую строку\n",
    "из каждого файла."
   ]
  },
  {
   "cell_type": "code",
   "execution_count": 3,
   "metadata": {},
   "outputs": [
    {
     "name": "stdout",
     "output_type": "stream",
     "text": [
      "Несовпадающие строки:\n",
      "file1.txt: fdsfdsfds\n",
      "\n",
      "file2.txt: sdfdsfdkfj\n",
      "\n",
      "Несовпадающие строки:\n",
      "file1.txt: dfdsfd\n",
      "\n",
      "file2.txt: \n",
      "\n",
      "Несовпадающие строки:\n",
      "file1.txt: \n",
      "\n",
      "file2.txt: frf\n",
      "\n",
      "Файлы имеют разное количество строк.\n"
     ]
    }
   ],
   "source": [
    "def compare_files(file1, file2):\n",
    "    with open(file1, 'r') as f1, open(file2, 'r') as f2:\n",
    "        lines1 = f1.readlines()\n",
    "        lines2 = f2.readlines()\n",
    "\n",
    "    min_len = min(len(lines1), len(lines2))\n",
    "    \n",
    "    for i in range(min_len):\n",
    "        if lines1[i] != lines2[i]:\n",
    "            print(f\"Несовпадающие строки:\\n{file1}: {lines1[i]}\\n{file2}: {lines2[i]}\")\n",
    "    \n",
    "    if len(lines1) != len(lines2):\n",
    "        print(\"Файлы имеют разное количество строк.\")\n",
    "\n",
    "compare_files('file1.txt', 'file2.txt')\n"
   ]
  },
  {
   "cell_type": "markdown",
   "metadata": {},
   "source": [
    "Задание 2\n",
    "Дан текстовый файл. Необходимо создать новый файл\n",
    "и записать в него следующую статистику по исходному\n",
    "файлу:\n",
    "■ Количество символов;\n",
    "■ Количество строк;\n",
    "■ Количество гласных букв;\n",
    "■ Количество согласных букв;\n",
    "■ Количество цифр."
   ]
  },
  {
   "cell_type": "code",
   "execution_count": 5,
   "metadata": {},
   "outputs": [],
   "source": [
    "def file_statistics(input_file, output_file):\n",
    "    vowels = \"аеёёиоуыэюяAEЁЁИОУЫЭЮЯ\"\n",
    "    consonants = \"бвгдеёжзийклмнопрстуфхцчшщBCDFGHJKLMNPQRSTVWXZbcdfghjklmnpqrstvwxyz\"\n",
    "    digits = \"0123456789\"\n",
    "\n",
    "    char_count = 0\n",
    "    line_count = 0\n",
    "    vowel_count = 0\n",
    "    consonant_count = 0\n",
    "    digit_count = 0\n",
    "\n",
    "    with open(input_file, 'r', encoding='utf-8') as file:\n",
    "        for line in file:\n",
    "            line_count += 1\n",
    "            char_count += len(line)\n",
    "            for char in line:\n",
    "                if char in vowels:\n",
    "                    vowel_count += 1\n",
    "                elif char in consonants:\n",
    "                    consonant_count += 1\n",
    "                elif char in digits:\n",
    "                    digit_count += 1\n",
    "\n",
    "    with open(output_file, 'w', encoding='utf-8') as file:\n",
    "        file.write(f\"Количество символов: {char_count}\\n\")\n",
    "        file.write(f\"Количество строк: {line_count}\\n\")\n",
    "        file.write(f\"Количество гласных букв: {vowel_count}\\n\")\n",
    "        file.write(f\"Количество согласных букв: {consonant_count}\\n\")\n",
    "        file.write(f\"Количество цифр: {digit_count}\\n\")\n",
    "\n",
    "file_statistics('input.txt', 'statistics.txt')\n"
   ]
  },
  {
   "cell_type": "markdown",
   "metadata": {},
   "source": [
    "Задание 3\n",
    "Дан текстовый файл. Удалить из него последнюю\n",
    "строку. Результат записать в другой файл."
   ]
  },
  {
   "cell_type": "code",
   "execution_count": 6,
   "metadata": {},
   "outputs": [],
   "source": [
    "def remove_last_line(input_file, output_file):\n",
    "    with open(input_file, 'r', encoding='utf-8') as file:\n",
    "        lines = file.readlines()\n",
    "\n",
    "    lines = lines[:-1]\n",
    "\n",
    "    with open(output_file, 'w', encoding='utf-8') as file:\n",
    "        file.writelines(lines)\n",
    "\n",
    "remove_last_line('input.txt', 'output.txt')\n"
   ]
  },
  {
   "cell_type": "markdown",
   "metadata": {},
   "source": [
    "Задание 4\n",
    "Дан текстовый файл. Найти длину самой длинной\n",
    "строки.\n"
   ]
  },
  {
   "cell_type": "code",
   "execution_count": 7,
   "metadata": {},
   "outputs": [
    {
     "name": "stdout",
     "output_type": "stream",
     "text": [
      "Длина самой длинной строки: 13\n"
     ]
    }
   ],
   "source": [
    "def longest_line_length(input_file):\n",
    "    with open(input_file, 'r', encoding='utf-8') as file:\n",
    "        lines = file.readlines()\n",
    "\n",
    "    longest_line = max(lines, key=len)\n",
    "    print(f\"Длина самой длинной строки: {len(longest_line)}\")\n",
    "\n",
    "longest_line_length('input.txt')\n"
   ]
  },
  {
   "cell_type": "markdown",
   "metadata": {},
   "source": [
    "Задание 5\n",
    "Дан текстовый файл. Посчитать сколько раз в нем\n",
    "встречается заданное пользователем слово."
   ]
  },
  {
   "cell_type": "code",
   "execution_count": 8,
   "metadata": {},
   "outputs": [
    {
     "name": "stdout",
     "output_type": "stream",
     "text": [
      "Слово 'слово' встречается 0 раз(а).\n"
     ]
    }
   ],
   "source": [
    "def count_word_occurrences(input_file, word):\n",
    "    with open(input_file, 'r', encoding='utf-8') as file:\n",
    "        content = file.read()\n",
    "\n",
    "    word_count = content.lower().count(word.lower())\n",
    "    print(f\"Слово '{word}' встречается {word_count} раз(а).\")\n",
    "\n",
    "count_word_occurrences('input.txt', 'слово')\n"
   ]
  },
  {
   "cell_type": "markdown",
   "metadata": {},
   "source": [
    "Задание 6\n",
    "Дан текстовый файл. Найти и заменить в нем заданное слово. Что искать и на что заменять определяется\n",
    "пользователем."
   ]
  },
  {
   "cell_type": "code",
   "execution_count": 9,
   "metadata": {},
   "outputs": [],
   "source": [
    "def replace_word_in_file(input_file, output_file, old_word, new_word):\n",
    "    with open(input_file, 'r', encoding='utf-8') as file:\n",
    "        content = file.read()\n",
    "\n",
    "    content = content.replace(old_word, new_word)\n",
    "\n",
    "    with open(output_file, 'w', encoding='utf-8') as file:\n",
    "        file.write(content)\n",
    "\n",
    "replace_word_in_file('input.txt', 'output.txt', 'старое_слово', 'новое_слово')\n"
   ]
  }
 ],
 "metadata": {
  "kernelspec": {
   "display_name": "Python 3",
   "language": "python",
   "name": "python3"
  },
  "language_info": {
   "codemirror_mode": {
    "name": "ipython",
    "version": 3
   },
   "file_extension": ".py",
   "mimetype": "text/x-python",
   "name": "python",
   "nbconvert_exporter": "python",
   "pygments_lexer": "ipython3",
   "version": "3.11.3"
  }
 },
 "nbformat": 4,
 "nbformat_minor": 2
}
