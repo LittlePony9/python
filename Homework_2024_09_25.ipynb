{
 "cells": [
  {
   "cell_type": "code",
   "execution_count": 82,
   "metadata": {},
   "outputs": [],
   "source": [
    "import os\n",
    "import time\n",
    "import re"
   ]
  },
  {
   "cell_type": "markdown",
   "metadata": {},
   "source": [
    "### Сортировка файлов по размеру\n",
    "\n",
    "Напишите программу, которая сортирует файлы в данной директории по размеру (от меньшего к большему). Для этого неплохо было бы несколько файлов или создать вручную, если в директории с этой тетрадкой кроме нее ничего нет, либо перенести несколько случайных файлов в нее, после чего можно будет проверить работу кода. По итогу вы должны вывести список файлов директории с заданным ранее условием"
   ]
  },
  {
   "cell_type": "code",
   "execution_count": 13,
   "metadata": {},
   "outputs": [
    {
     "data": {
      "text/plain": [
       "['.vs',\n",
       " 'HW_2024_03-10.txt',\n",
       " 'HW_2024_09_16',\n",
       " 'README.md',\n",
       " 'LICENSE',\n",
       " 'HW_2024_09_28_Nikopolidi.ipynb',\n",
       " 'HW_2024_09_16_NikIrina.ipynb',\n",
       " '.git',\n",
       " 'Homework_2024_09_25.ipynb',\n",
       " 'HW_2024_03-10.ipynb',\n",
       " 'Project.ipynb']"
      ]
     },
     "execution_count": 13,
     "metadata": {},
     "output_type": "execute_result"
    }
   ],
   "source": [
    "files = os.listdir()\n",
    "sorted(files, key=os.path.getsize)"
   ]
  },
  {
   "cell_type": "markdown",
   "metadata": {},
   "source": [
    "### Создание директорий\n",
    "\n",
    "Напишите программу, которая создает серию вложенных директорий с использованием цикла. Например, создать директорию \"А\", в которой будет лежать директория \"B\", в которой будет лежать директория \"C\" (названия директорий латиницей). В конце вы должны вывести, что содержится в каждой из этих директорий"
   ]
  },
  {
   "cell_type": "code",
   "execution_count": 32,
   "metadata": {},
   "outputs": [
    {
     "name": "stdout",
     "output_type": "stream",
     "text": [
      "c:\\Users\\279015609\\python\\directory_1\n",
      "[]\n",
      "c:\\Users\\279015609\\python\\directory_2\n",
      "[]\n",
      "c:\\Users\\279015609\\python\\directory_3\n",
      "[]\n"
     ]
    }
   ],
   "source": [
    "base_directory = os.path.abspath(path)\n",
    "num_nested_dir = 3\n",
    "\n",
    "for i in range(1, num_nested_dir + 1):\n",
    "    dir_path = os.path.join(base_directory, f'directory_{i}')\n",
    "    print(dir_path)\n",
    "    print(os.listdir(dir_path))\n",
    "    os.makedirs(dir_path, exist_ok=True)\n",
    "\n"
   ]
  },
  {
   "cell_type": "markdown",
   "metadata": {},
   "source": [
    "### Поиск файлов по расширению\n",
    "\n",
    "Напишите программу, которая выводит имена всех файлов с расширением, например, \".txt\" в определенной директории и всех поддиректориях"
   ]
  },
  {
   "cell_type": "code",
   "execution_count": 37,
   "metadata": {},
   "outputs": [
    {
     "name": "stdout",
     "output_type": "stream",
     "text": [
      "c:\\Users\\279015609\\python\\HW_2024_03-10.txt\n"
     ]
    }
   ],
   "source": [
    "directory = os.path.abspath(path)\n",
    "extension = '.txt'\n",
    "\n",
    "for root, dirs, files in os.walk(directory):\n",
    "    for file in files:\n",
    "        if file.endswith(extension):\n",
    "            print(os.path.join(root, file))"
   ]
  },
  {
   "cell_type": "markdown",
   "metadata": {},
   "source": [
    "### Получение информации о файле\n",
    "\n",
    "Напишите программу, которая выводит информацию о файле: имя, размер, дату модификации, тип файла (файл/директория)"
   ]
  },
  {
   "cell_type": "code",
   "execution_count": 81,
   "metadata": {},
   "outputs": [
    {
     "name": "stdout",
     "output_type": "stream",
     "text": [
      "\n",
      "Имя: Project.ipynb\n",
      "Размер: 12871139\n",
      "Дата модификации: Wed Oct  2 20:57:06 2024\n",
      "Тип файла: Файл\n"
     ]
    }
   ],
   "source": [
    "relative_path = 'python/Project.ipynb'\n",
    "absolute_path = os.path.abspath(relative_path)\n",
    "name = os.path.basename(relative_path)\n",
    "size = os.path.getsize('Project.ipynb')\n",
    "if os.path.isfile('Project.ipynb'):\n",
    "    print(\"\")\n",
    "else: \n",
    "    print(\"Не применимо\")\n",
    "\n",
    "mod_time = time.ctime(os.path.getmtime('Project.ipynb'))\n",
    "\n",
    "if os.path.isfile('Project.ipynb'):\n",
    "    file_type = \"Файл\"\n",
    "elif os.path.isdir('Project.ipynb'):\n",
    "    file_type = \"Директория\"\n",
    "else: \n",
    "    file_type = \"Неизвестный тип\"\n",
    "\n",
    "print(f'Имя: {name}')\n",
    "print(f'Размер: {size}')\n",
    "print(f'Дата модификации: {mod_time}')\n",
    "print(f'Тип файла: {file_type}')\n",
    "\n"
   ]
  },
  {
   "cell_type": "markdown",
   "metadata": {},
   "source": [
    "### Проверка e-mail адреса\n",
    "\n",
    "Напишите программу, которая запрашивает у пользователя ввести e-mail адрес и проверяет введенную строку с помощью регулярных выражений, является ли она типовым e-mail адресом. В случае, если да, программа должны вывести \"Всё верно\", если же нет, то \"Вы допустили ошибку в e-mail адресе\""
   ]
  },
  {
   "cell_type": "code",
   "execution_count": 84,
   "metadata": {},
   "outputs": [
    {
     "name": "stdout",
     "output_type": "stream",
     "text": [
      "Вы допустили ошибку\n"
     ]
    }
   ],
   "source": [
    "email = input(\"Please enter your email address: \")\n",
    "\n",
    "pattern = r\"^[-\\w\\.]+@([-\\w]+\\.)+[-\\w]{2,4}$\"\n",
    "\n",
    "if re.match(pattern, email) is not None:\n",
    "    print(\"Все верно\")\n",
    "else:\n",
    "    print(\"Вы допустили ошибку\")"
   ]
  }
 ],
 "metadata": {
  "kernelspec": {
   "display_name": "Python 3",
   "language": "python",
   "name": "python3"
  },
  "language_info": {
   "codemirror_mode": {
    "name": "ipython",
    "version": 3
   },
   "file_extension": ".py",
   "mimetype": "text/x-python",
   "name": "python",
   "nbconvert_exporter": "python",
   "pygments_lexer": "ipython3",
   "version": "3.12.6"
  }
 },
 "nbformat": 4,
 "nbformat_minor": 2
}
