{
 "cells": [
  {
   "cell_type": "markdown",
   "metadata": {},
   "source": [
    "Задание 1: Декораторы\n",
    "Создайте декоратор timer, который измеряет время выполнения функции.\n",
    "Декоратор должен выводить время, затраченное на выполнение функции."
   ]
  },
  {
   "cell_type": "code",
   "execution_count": 11,
   "metadata": {},
   "outputs": [
    {
     "name": "stdout",
     "output_type": "stream",
     "text": [
      "Пример функции выполнен.\n",
      "Функция example_function выполнена за 1.0018 секунд.\n"
     ]
    }
   ],
   "source": [
    "import time\n",
    "\n",
    "def timer(func):\n",
    "    def wrapper(*args, **kwargs):\n",
    "        start_time = time.time()\n",
    "        result = func(*args, **kwargs)\n",
    "        end_time = time.time()\n",
    "        print(f\"Функция {func.__name__} выполнена за {end_time - start_time:.4f} секунд.\")\n",
    "        return result\n",
    "    return wrapper\n",
    "\n",
    "# Пример использования декоратора timer\n",
    "@timer\n",
    "def example_function():\n",
    "    time.sleep(1)\n",
    "    print(\"Пример функции выполнен.\")\n",
    "\n",
    "example_function()"
   ]
  },
  {
   "cell_type": "markdown",
   "metadata": {},
   "source": [
    "2) Создайте декоратор retry, который повторяет выполнение функции\n",
    "в случае возникновения исключения.\n",
    "Декоратор должен принимать параметр max_retries, который указывает\n",
    "максимальное количество попыток.\n",
    "Если после max_retries попыток функция не выполнится успешно,\n",
    "декоратор должен выбросить исключение."
   ]
  },
  {
   "cell_type": "code",
   "execution_count": 12,
   "metadata": {},
   "outputs": [
    {
     "name": "stdout",
     "output_type": "stream",
     "text": [
      "Попытка выполнения функции...\n",
      "Попытка 1 вызвала исключение: Ошибка выполнения.\n",
      "Попытка выполнения функции...\n",
      "Попытка 2 вызвала исключение: Ошибка выполнения.\n",
      "Попытка выполнения функции...\n",
      "Попытка 3 вызвала исключение: Ошибка выполнения.\n",
      "Функция не выполнена успешно после 3 попыток.\n"
     ]
    }
   ],
   "source": [
    "def retry(max_retries):\n",
    "    def decorator(func):\n",
    "        def wrapper(*args, **kwargs):\n",
    "            attempts = 0\n",
    "            while attempts < max_retries:\n",
    "                try:\n",
    "                    return func(*args, **kwargs)\n",
    "                except Exception as e:\n",
    "                    attempts += 1\n",
    "                    print(f\"Попытка {attempts} вызвала исключение: {e}\")\n",
    "            raise Exception(f\"Функция не выполнена успешно после {max_retries} попыток.\")\n",
    "        return wrapper\n",
    "    return decorator\n",
    "\n",
    "# Пример использования декоратора retry\n",
    "@retry(max_retries=3)\n",
    "def example_function_with_error():\n",
    "    print(\"Попытка выполнения функции...\")\n",
    "    raise ValueError(\"Ошибка выполнения.\")\n",
    "\n",
    "try:\n",
    "    example_function_with_error()\n",
    "except Exception as e:\n",
    "    print(e)"
   ]
  },
  {
   "cell_type": "markdown",
   "metadata": {},
   "source": [
    "Задание : Замыкания\n",
    "Создайте функцию counter, которая возвращает функцию,\n",
    "подсчитывающую количество вызовов"
   ]
  },
  {
   "cell_type": "code",
   "execution_count": 13,
   "metadata": {},
   "outputs": [
    {
     "name": "stdout",
     "output_type": "stream",
     "text": [
      "1\n",
      "2\n",
      "3\n"
     ]
    }
   ],
   "source": [
    "def counter():\n",
    "    count = 0\n",
    "    def inner():\n",
    "        nonlocal count\n",
    "        count += 1\n",
    "        return count\n",
    "    return inner\n",
    "\n",
    "# Пример использования замыкания counter\n",
    "counter_instance = counter()\n",
    "print(counter_instance())  # 1\n",
    "print(counter_instance())  # 2\n",
    "print(counter_instance())  # 3"
   ]
  },
  {
   "cell_type": "markdown",
   "metadata": {},
   "source": [
    "4) Создайте функцию make_multiplier, которая принимает число и\n",
    "возвращает функцию, умножающую на это число."
   ]
  },
  {
   "cell_type": "code",
   "execution_count": 14,
   "metadata": {},
   "outputs": [
    {
     "name": "stdout",
     "output_type": "stream",
     "text": [
      "10\n",
      "15\n"
     ]
    }
   ],
   "source": [
    "def make_multiplier(multiplier):\n",
    "    def inner(number):\n",
    "        return number * multiplier\n",
    "    return inner\n",
    "\n",
    "# Пример использования замыкания make_multiplier\n",
    "double = make_multiplier(2)\n",
    "triple = make_multiplier(3)\n",
    "\n",
    "print(double(5))  # 10\n",
    "print(triple(5))  # 15"
   ]
  }
 ],
 "metadata": {
  "kernelspec": {
   "display_name": "Python 3",
   "language": "python",
   "name": "python3"
  },
  "language_info": {
   "codemirror_mode": {
    "name": "ipython",
    "version": 3
   },
   "file_extension": ".py",
   "mimetype": "text/x-python",
   "name": "python",
   "nbconvert_exporter": "python",
   "pygments_lexer": "ipython3",
   "version": "3.11.3"
  }
 },
 "nbformat": 4,
 "nbformat_minor": 2
}
