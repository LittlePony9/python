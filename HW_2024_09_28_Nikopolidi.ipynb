{
 "cells": [
  {
   "cell_type": "markdown",
   "metadata": {},
   "source": [
    "Задание 1\n",
    "Пользователь вводит с клавиатуры три числа. В зависимости от выбора пользователя программа выводит\n",
    "на экран сумму трёх чисел или произведение трёх чисел."
   ]
  },
  {
   "cell_type": "code",
   "execution_count": 4,
   "metadata": {},
   "outputs": [
    {
     "name": "stdout",
     "output_type": "stream",
     "text": [
      "Error\n"
     ]
    }
   ],
   "source": [
    "num1 = int(input(\"Type the first number\"))\n",
    "num2 = int(input(\"Type the second number\"))\n",
    "operation = input(\"Choose operation (* or +)\")\n",
    "\n",
    "if operation == \"*\":\n",
    "    print(num1 * num2)\n",
    "elif operation == \"+\":\n",
    "    print(num1 + num2)\n",
    "else: print(\"Error\")"
   ]
  },
  {
   "cell_type": "markdown",
   "metadata": {},
   "source": [
    "Задание 2\n",
    "Пользователь вводит с клавиатуры три числа. В зависимости от выбора пользователя программа выводит\n",
    "на экран максимум из трёх, минимум из трёх или среднеарифметическое трёх чисел."
   ]
  },
  {
   "cell_type": "code",
   "execution_count": 7,
   "metadata": {},
   "outputs": [
    {
     "name": "stdout",
     "output_type": "stream",
     "text": [
      "3.3333333333333335\n"
     ]
    }
   ],
   "source": [
    "num1 = int(input(\"Type the first number\"))\n",
    "num2 = int(input(\"Type the second number\"))\n",
    "num3 = int(input(\"Type the third number\"))\n",
    "\n",
    "operation = input(\"Choose operation (max, min or mean)\")\n",
    "\n",
    "if operation == 'max':\n",
    "    print(max(num1, num2, num3))\n",
    "elif operation == 'min':\n",
    "    print(min(num1, num2, num3))\n",
    "elif operation == 'mean':\n",
    "    print((num1 + num2 + num3) / 3)\n",
    "else: print(\"Error\")"
   ]
  },
  {
   "cell_type": "markdown",
   "metadata": {},
   "source": [
    "Задание 3\n",
    "Пользователь вводит с клавиатуры количество метров. В зависимости от выбора пользователя программа\n",
    "переводит метры в мили, дюймы или ярды."
   ]
  },
  {
   "cell_type": "code",
   "execution_count": 12,
   "metadata": {},
   "outputs": [
    {
     "name": "stdout",
     "output_type": "stream",
     "text": [
      "Error\n"
     ]
    }
   ],
   "source": [
    "meters = float(input(\"Type the amount\"))\n",
    "unit = input(\"Choose the unit of measure (mile, inch, yard)\")\n",
    "\n",
    "if unit == \"mile\":\n",
    "    result = meters * 0.00062137\n",
    "    print(f\"This is {result} miles\")\n",
    "elif unit == \"inch\":\n",
    "    result = meters * 39.36\n",
    "    print(f\"This is {result} inches\")\n",
    "elif unit == \"yard\":\n",
    "    result = meters * 1.0936\n",
    "    print(f\"This is {result} yards\")\n",
    "else: print(\"Error\")\n"
   ]
  }
 ],
 "metadata": {
  "kernelspec": {
   "display_name": "Python 3",
   "language": "python",
   "name": "python3"
  },
  "language_info": {
   "codemirror_mode": {
    "name": "ipython",
    "version": 3
   },
   "file_extension": ".py",
   "mimetype": "text/x-python",
   "name": "python",
   "nbconvert_exporter": "python",
   "pygments_lexer": "ipython3",
   "version": "3.11.3"
  }
 },
 "nbformat": 4,
 "nbformat_minor": 2
}
