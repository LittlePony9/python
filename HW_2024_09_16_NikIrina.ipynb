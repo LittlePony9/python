{
 "cells": [
  {
   "cell_type": "markdown",
   "metadata": {},
   "source": [
    "Переменные и типы данных"
   ]
  },
  {
   "cell_type": "code",
   "execution_count": 2,
   "metadata": {},
   "outputs": [
    {
     "name": "stdout",
     "output_type": "stream",
     "text": [
      "My name is Irina. I'm 28 years old. Am I a student? False.\n",
      "Next year I will be 29.\n"
     ]
    }
   ],
   "source": [
    "name = 'Irina'\n",
    "age = 28\n",
    "is_student = False\n",
    "print(f\"My name is {name}. I'm {age} years old. Am I a student? {is_student}.\")\n",
    "age += 1\n",
    "print(f\"Next year I will be {age}.\")"
   ]
  },
  {
   "cell_type": "markdown",
   "metadata": {},
   "source": [
    "Математические операции"
   ]
  },
  {
   "cell_type": "code",
   "execution_count": 3,
   "metadata": {},
   "outputs": [
    {
     "name": "stdout",
     "output_type": "stream",
     "text": [
      "Sum: 15, difference: -5, multiplication: 50, division: 0.5, remainder: 0\n"
     ]
    }
   ],
   "source": [
    "a = 5\n",
    "b = 10\n",
    "sum = a + b\n",
    "dif = a - b\n",
    "multipl = a * b\n",
    "div = a / b\n",
    "remainder = b % a\n",
    "\n",
    "print(f\"Sum: {sum}, difference: {dif}, multiplication: {multipl}, division: {div}, remainder: {remainder}\")\n"
   ]
  }
 ],
 "metadata": {
  "kernelspec": {
   "display_name": "Python 3",
   "language": "python",
   "name": "python3"
  },
  "language_info": {
   "codemirror_mode": {
    "name": "ipython",
    "version": 3
   },
   "file_extension": ".py",
   "mimetype": "text/x-python",
   "name": "python",
   "nbconvert_exporter": "python",
   "pygments_lexer": "ipython3",
   "version": "3.11.3"
  }
 },
 "nbformat": 4,
 "nbformat_minor": 2
}
